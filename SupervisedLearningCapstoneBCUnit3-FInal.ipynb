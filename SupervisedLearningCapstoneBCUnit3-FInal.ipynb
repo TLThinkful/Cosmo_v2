{
 "cells": [
  {
   "cell_type": "markdown",
   "metadata": {},
   "source": [
    "## Dataset Overview\n",
    "This dataset provides credit related data for loans that were issued in 2018 by a unspecified institution. \n",
    "\n",
    "The dataset contains 855969 observations across 73 columns and can be found at the following link:\n",
    "\n",
    "https://www.kaggle.com/manishpthakur/pythonproject"
   ]
  },
  {
   "cell_type": "code",
   "execution_count": 1,
   "metadata": {},
   "outputs": [],
   "source": [
    "import pandas as pd\n",
    "import numpy as np\n",
    "import matplotlib.pyplot as plt\n",
    "import seaborn as sns\n",
    "import scipy\n",
    "from sklearn import ensemble\n",
    "from sklearn import linear_model\n",
    "from sklearn.linear_model import LogisticRegression\n",
    "from sklearn.svm import SVR\n",
    "from sklearn.svm import SVC\n",
    "from sklearn.neighbors import KNeighborsClassifier\n",
    "from sklearn.naive_bayes import BernoulliNB\n",
    "from sklearn.naive_bayes import GaussianNB\n",
    "from sklearn.naive_bayes import MultinomialNB\n",
    "from sklearn import preprocessing\n",
    "from sklearn.model_selection import cross_val_score\n",
    "from sklearn.metrics import confusion_matrix\n",
    "from sklearn.feature_selection import RFE\n",
    "\n",
    "\n",
    "%matplotlib inline"
   ]
  },
  {
   "cell_type": "markdown",
   "metadata": {},
   "source": [
    "## Load the dataset in and run data discovery steps"
   ]
  },
  {
   "cell_type": "code",
   "execution_count": 2,
   "metadata": {},
   "outputs": [],
   "source": [
    "Credit = pd.read_csv('data/CreditRisk.csv')"
   ]
  },
  {
   "cell_type": "code",
   "execution_count": 3,
   "metadata": {},
   "outputs": [
    {
     "data": {
      "text/plain": [
       "(855969, 41)"
      ]
     },
     "execution_count": 3,
     "metadata": {},
     "output_type": "execute_result"
    }
   ],
   "source": [
    "Credit.shape"
   ]
  },
  {
   "cell_type": "code",
   "execution_count": 4,
   "metadata": {},
   "outputs": [
    {
     "data": {
      "text/plain": [
       "Index(['id', 'member_id', 'loan_amnt', 'funded_amnt', 'funded_amnt_inv',\n",
       "       'term', 'int_rate', 'installment', 'grade', 'sub_grade',\n",
       "       'home_ownership', 'annual_inc', 'verification_status', 'issue_d',\n",
       "       'pymnt_plan', 'purpose', 'zip_code', 'addr_state', 'dti', 'delinq_2yrs',\n",
       "       'earliest_cr_line', 'inq_last_6mths', 'open_acc', 'pub_rec',\n",
       "       'revol_bal', 'total_acc', 'initial_list_status', 'out_prncp',\n",
       "       'out_prncp_inv', 'total_pymnt', 'total_pymnt_inv', 'total_rec_prncp',\n",
       "       'total_rec_int', 'total_rec_late_fee', 'recoveries',\n",
       "       'collection_recovery_fee', 'last_pymnt_amnt', 'policy_code',\n",
       "       'application_type', 'acc_now_delinq', 'default_ind'],\n",
       "      dtype='object')"
      ]
     },
     "execution_count": 4,
     "metadata": {},
     "output_type": "execute_result"
    }
   ],
   "source": [
    "Credit.columns"
   ]
  },
  {
   "cell_type": "code",
   "execution_count": 5,
   "metadata": {},
   "outputs": [
    {
     "data": {
      "text/html": [
       "<div>\n",
       "<style scoped>\n",
       "    .dataframe tbody tr th:only-of-type {\n",
       "        vertical-align: middle;\n",
       "    }\n",
       "\n",
       "    .dataframe tbody tr th {\n",
       "        vertical-align: top;\n",
       "    }\n",
       "\n",
       "    .dataframe thead th {\n",
       "        text-align: right;\n",
       "    }\n",
       "</style>\n",
       "<table border=\"1\" class=\"dataframe\">\n",
       "  <thead>\n",
       "    <tr style=\"text-align: right;\">\n",
       "      <th></th>\n",
       "      <th>id</th>\n",
       "      <th>member_id</th>\n",
       "      <th>loan_amnt</th>\n",
       "      <th>funded_amnt</th>\n",
       "      <th>funded_amnt_inv</th>\n",
       "      <th>term</th>\n",
       "      <th>int_rate</th>\n",
       "      <th>installment</th>\n",
       "      <th>grade</th>\n",
       "      <th>sub_grade</th>\n",
       "      <th>...</th>\n",
       "      <th>total_rec_prncp</th>\n",
       "      <th>total_rec_int</th>\n",
       "      <th>total_rec_late_fee</th>\n",
       "      <th>recoveries</th>\n",
       "      <th>collection_recovery_fee</th>\n",
       "      <th>last_pymnt_amnt</th>\n",
       "      <th>policy_code</th>\n",
       "      <th>application_type</th>\n",
       "      <th>acc_now_delinq</th>\n",
       "      <th>default_ind</th>\n",
       "    </tr>\n",
       "  </thead>\n",
       "  <tbody>\n",
       "    <tr>\n",
       "      <th>0</th>\n",
       "      <td>1077501</td>\n",
       "      <td>1296599</td>\n",
       "      <td>5000</td>\n",
       "      <td>5000</td>\n",
       "      <td>4975.0</td>\n",
       "      <td>36 months</td>\n",
       "      <td>10.65</td>\n",
       "      <td>162.87</td>\n",
       "      <td>B</td>\n",
       "      <td>B2</td>\n",
       "      <td>...</td>\n",
       "      <td>5000.00</td>\n",
       "      <td>861.07</td>\n",
       "      <td>0.00</td>\n",
       "      <td>0.00</td>\n",
       "      <td>0.00</td>\n",
       "      <td>171.62</td>\n",
       "      <td>1</td>\n",
       "      <td>INDIVIDUAL</td>\n",
       "      <td>0</td>\n",
       "      <td>0</td>\n",
       "    </tr>\n",
       "    <tr>\n",
       "      <th>1</th>\n",
       "      <td>1077430</td>\n",
       "      <td>1314167</td>\n",
       "      <td>2500</td>\n",
       "      <td>2500</td>\n",
       "      <td>2500.0</td>\n",
       "      <td>60 months</td>\n",
       "      <td>15.27</td>\n",
       "      <td>59.83</td>\n",
       "      <td>C</td>\n",
       "      <td>C4</td>\n",
       "      <td>...</td>\n",
       "      <td>456.46</td>\n",
       "      <td>435.17</td>\n",
       "      <td>0.00</td>\n",
       "      <td>117.08</td>\n",
       "      <td>1.11</td>\n",
       "      <td>119.66</td>\n",
       "      <td>1</td>\n",
       "      <td>INDIVIDUAL</td>\n",
       "      <td>0</td>\n",
       "      <td>1</td>\n",
       "    </tr>\n",
       "    <tr>\n",
       "      <th>2</th>\n",
       "      <td>1077175</td>\n",
       "      <td>1313524</td>\n",
       "      <td>2400</td>\n",
       "      <td>2400</td>\n",
       "      <td>2400.0</td>\n",
       "      <td>36 months</td>\n",
       "      <td>15.96</td>\n",
       "      <td>84.33</td>\n",
       "      <td>C</td>\n",
       "      <td>C5</td>\n",
       "      <td>...</td>\n",
       "      <td>2400.00</td>\n",
       "      <td>603.65</td>\n",
       "      <td>0.00</td>\n",
       "      <td>0.00</td>\n",
       "      <td>0.00</td>\n",
       "      <td>649.91</td>\n",
       "      <td>1</td>\n",
       "      <td>INDIVIDUAL</td>\n",
       "      <td>0</td>\n",
       "      <td>0</td>\n",
       "    </tr>\n",
       "    <tr>\n",
       "      <th>3</th>\n",
       "      <td>1076863</td>\n",
       "      <td>1277178</td>\n",
       "      <td>10000</td>\n",
       "      <td>10000</td>\n",
       "      <td>10000.0</td>\n",
       "      <td>36 months</td>\n",
       "      <td>13.49</td>\n",
       "      <td>339.31</td>\n",
       "      <td>C</td>\n",
       "      <td>C1</td>\n",
       "      <td>...</td>\n",
       "      <td>10000.00</td>\n",
       "      <td>2209.33</td>\n",
       "      <td>16.97</td>\n",
       "      <td>0.00</td>\n",
       "      <td>0.00</td>\n",
       "      <td>357.48</td>\n",
       "      <td>1</td>\n",
       "      <td>INDIVIDUAL</td>\n",
       "      <td>0</td>\n",
       "      <td>0</td>\n",
       "    </tr>\n",
       "    <tr>\n",
       "      <th>4</th>\n",
       "      <td>1075358</td>\n",
       "      <td>1311748</td>\n",
       "      <td>3000</td>\n",
       "      <td>3000</td>\n",
       "      <td>3000.0</td>\n",
       "      <td>60 months</td>\n",
       "      <td>12.69</td>\n",
       "      <td>67.79</td>\n",
       "      <td>B</td>\n",
       "      <td>B5</td>\n",
       "      <td>...</td>\n",
       "      <td>2233.10</td>\n",
       "      <td>1009.07</td>\n",
       "      <td>0.00</td>\n",
       "      <td>0.00</td>\n",
       "      <td>0.00</td>\n",
       "      <td>67.79</td>\n",
       "      <td>1</td>\n",
       "      <td>INDIVIDUAL</td>\n",
       "      <td>0</td>\n",
       "      <td>0</td>\n",
       "    </tr>\n",
       "  </tbody>\n",
       "</table>\n",
       "<p>5 rows × 41 columns</p>\n",
       "</div>"
      ],
      "text/plain": [
       "        id  member_id  loan_amnt  funded_amnt  funded_amnt_inv        term  \\\n",
       "0  1077501    1296599       5000         5000           4975.0   36 months   \n",
       "1  1077430    1314167       2500         2500           2500.0   60 months   \n",
       "2  1077175    1313524       2400         2400           2400.0   36 months   \n",
       "3  1076863    1277178      10000        10000          10000.0   36 months   \n",
       "4  1075358    1311748       3000         3000           3000.0   60 months   \n",
       "\n",
       "   int_rate  installment grade sub_grade     ...      total_rec_prncp  \\\n",
       "0     10.65       162.87     B        B2     ...              5000.00   \n",
       "1     15.27        59.83     C        C4     ...               456.46   \n",
       "2     15.96        84.33     C        C5     ...              2400.00   \n",
       "3     13.49       339.31     C        C1     ...             10000.00   \n",
       "4     12.69        67.79     B        B5     ...              2233.10   \n",
       "\n",
       "   total_rec_int total_rec_late_fee recoveries collection_recovery_fee  \\\n",
       "0         861.07               0.00       0.00                    0.00   \n",
       "1         435.17               0.00     117.08                    1.11   \n",
       "2         603.65               0.00       0.00                    0.00   \n",
       "3        2209.33              16.97       0.00                    0.00   \n",
       "4        1009.07               0.00       0.00                    0.00   \n",
       "\n",
       "  last_pymnt_amnt policy_code application_type  acc_now_delinq  default_ind  \n",
       "0          171.62           1       INDIVIDUAL               0            0  \n",
       "1          119.66           1       INDIVIDUAL               0            1  \n",
       "2          649.91           1       INDIVIDUAL               0            0  \n",
       "3          357.48           1       INDIVIDUAL               0            0  \n",
       "4           67.79           1       INDIVIDUAL               0            0  \n",
       "\n",
       "[5 rows x 41 columns]"
      ]
     },
     "execution_count": 5,
     "metadata": {},
     "output_type": "execute_result"
    }
   ],
   "source": [
    "pd.options.display.max_rows = 999\n",
    "Credit.head(5)"
   ]
  },
  {
   "cell_type": "code",
   "execution_count": 6,
   "metadata": {},
   "outputs": [
    {
     "data": {
      "text/html": [
       "<div>\n",
       "<style scoped>\n",
       "    .dataframe tbody tr th:only-of-type {\n",
       "        vertical-align: middle;\n",
       "    }\n",
       "\n",
       "    .dataframe tbody tr th {\n",
       "        vertical-align: top;\n",
       "    }\n",
       "\n",
       "    .dataframe thead th {\n",
       "        text-align: right;\n",
       "    }\n",
       "</style>\n",
       "<table border=\"1\" class=\"dataframe\">\n",
       "  <thead>\n",
       "    <tr style=\"text-align: right;\">\n",
       "      <th></th>\n",
       "      <th>id</th>\n",
       "      <th>member_id</th>\n",
       "      <th>loan_amnt</th>\n",
       "      <th>funded_amnt</th>\n",
       "      <th>funded_amnt_inv</th>\n",
       "      <th>int_rate</th>\n",
       "      <th>installment</th>\n",
       "      <th>annual_inc</th>\n",
       "      <th>dti</th>\n",
       "      <th>delinq_2yrs</th>\n",
       "      <th>...</th>\n",
       "      <th>total_pymnt_inv</th>\n",
       "      <th>total_rec_prncp</th>\n",
       "      <th>total_rec_int</th>\n",
       "      <th>total_rec_late_fee</th>\n",
       "      <th>recoveries</th>\n",
       "      <th>collection_recovery_fee</th>\n",
       "      <th>last_pymnt_amnt</th>\n",
       "      <th>policy_code</th>\n",
       "      <th>acc_now_delinq</th>\n",
       "      <th>default_ind</th>\n",
       "    </tr>\n",
       "  </thead>\n",
       "  <tbody>\n",
       "    <tr>\n",
       "      <th>count</th>\n",
       "      <td>8.559690e+05</td>\n",
       "      <td>8.559690e+05</td>\n",
       "      <td>855969.000000</td>\n",
       "      <td>855969.000000</td>\n",
       "      <td>855969.000000</td>\n",
       "      <td>855969.000000</td>\n",
       "      <td>855969.000000</td>\n",
       "      <td>8.559690e+05</td>\n",
       "      <td>855969.000000</td>\n",
       "      <td>855969.000000</td>\n",
       "      <td>...</td>\n",
       "      <td>855969.00000</td>\n",
       "      <td>855969.000000</td>\n",
       "      <td>855969.000000</td>\n",
       "      <td>855969.000000</td>\n",
       "      <td>855969.000000</td>\n",
       "      <td>855969.000000</td>\n",
       "      <td>855969.000000</td>\n",
       "      <td>855969.0</td>\n",
       "      <td>855969.000000</td>\n",
       "      <td>855969.000000</td>\n",
       "    </tr>\n",
       "    <tr>\n",
       "      <th>mean</th>\n",
       "      <td>3.224073e+07</td>\n",
       "      <td>3.476269e+07</td>\n",
       "      <td>14745.571335</td>\n",
       "      <td>14732.378305</td>\n",
       "      <td>14700.061226</td>\n",
       "      <td>13.192320</td>\n",
       "      <td>436.238072</td>\n",
       "      <td>7.507119e+04</td>\n",
       "      <td>18.122165</td>\n",
       "      <td>0.311621</td>\n",
       "      <td>...</td>\n",
       "      <td>7622.22052</td>\n",
       "      <td>5850.841088</td>\n",
       "      <td>1755.046221</td>\n",
       "      <td>0.319530</td>\n",
       "      <td>47.089499</td>\n",
       "      <td>4.951227</td>\n",
       "      <td>2225.985295</td>\n",
       "      <td>1.0</td>\n",
       "      <td>0.004944</td>\n",
       "      <td>0.054286</td>\n",
       "    </tr>\n",
       "    <tr>\n",
       "      <th>std</th>\n",
       "      <td>2.271969e+07</td>\n",
       "      <td>2.399418e+07</td>\n",
       "      <td>8425.340005</td>\n",
       "      <td>8419.471653</td>\n",
       "      <td>8425.805478</td>\n",
       "      <td>4.368365</td>\n",
       "      <td>243.726876</td>\n",
       "      <td>6.426447e+04</td>\n",
       "      <td>17.423629</td>\n",
       "      <td>0.857189</td>\n",
       "      <td>...</td>\n",
       "      <td>7885.15640</td>\n",
       "      <td>6676.410888</td>\n",
       "      <td>2081.692980</td>\n",
       "      <td>3.609399</td>\n",
       "      <td>413.136043</td>\n",
       "      <td>62.478569</td>\n",
       "      <td>4864.966593</td>\n",
       "      <td>0.0</td>\n",
       "      <td>0.077333</td>\n",
       "      <td>0.226581</td>\n",
       "    </tr>\n",
       "    <tr>\n",
       "      <th>min</th>\n",
       "      <td>5.473400e+04</td>\n",
       "      <td>7.069900e+04</td>\n",
       "      <td>500.000000</td>\n",
       "      <td>500.000000</td>\n",
       "      <td>0.000000</td>\n",
       "      <td>5.320000</td>\n",
       "      <td>15.690000</td>\n",
       "      <td>0.000000e+00</td>\n",
       "      <td>0.000000</td>\n",
       "      <td>0.000000</td>\n",
       "      <td>...</td>\n",
       "      <td>0.00000</td>\n",
       "      <td>0.000000</td>\n",
       "      <td>0.000000</td>\n",
       "      <td>0.000000</td>\n",
       "      <td>0.000000</td>\n",
       "      <td>0.000000</td>\n",
       "      <td>0.000000</td>\n",
       "      <td>1.0</td>\n",
       "      <td>0.000000</td>\n",
       "      <td>0.000000</td>\n",
       "    </tr>\n",
       "    <tr>\n",
       "      <th>25%</th>\n",
       "      <td>9.067986e+06</td>\n",
       "      <td>1.079273e+07</td>\n",
       "      <td>8000.000000</td>\n",
       "      <td>8000.000000</td>\n",
       "      <td>8000.000000</td>\n",
       "      <td>9.990000</td>\n",
       "      <td>260.550000</td>\n",
       "      <td>4.500000e+04</td>\n",
       "      <td>11.880000</td>\n",
       "      <td>0.000000</td>\n",
       "      <td>...</td>\n",
       "      <td>1960.12000</td>\n",
       "      <td>1239.950000</td>\n",
       "      <td>451.270000</td>\n",
       "      <td>0.000000</td>\n",
       "      <td>0.000000</td>\n",
       "      <td>0.000000</td>\n",
       "      <td>285.420000</td>\n",
       "      <td>1.0</td>\n",
       "      <td>0.000000</td>\n",
       "      <td>0.000000</td>\n",
       "    </tr>\n",
       "    <tr>\n",
       "      <th>50%</th>\n",
       "      <td>3.431355e+07</td>\n",
       "      <td>3.697532e+07</td>\n",
       "      <td>13000.000000</td>\n",
       "      <td>13000.000000</td>\n",
       "      <td>13000.000000</td>\n",
       "      <td>12.990000</td>\n",
       "      <td>382.550000</td>\n",
       "      <td>6.500000e+04</td>\n",
       "      <td>17.610000</td>\n",
       "      <td>0.000000</td>\n",
       "      <td>...</td>\n",
       "      <td>4948.25000</td>\n",
       "      <td>3286.890000</td>\n",
       "      <td>1076.910000</td>\n",
       "      <td>0.000000</td>\n",
       "      <td>0.000000</td>\n",
       "      <td>0.000000</td>\n",
       "      <td>468.820000</td>\n",
       "      <td>1.0</td>\n",
       "      <td>0.000000</td>\n",
       "      <td>0.000000</td>\n",
       "    </tr>\n",
       "    <tr>\n",
       "      <th>75%</th>\n",
       "      <td>5.446311e+07</td>\n",
       "      <td>5.803559e+07</td>\n",
       "      <td>20000.000000</td>\n",
       "      <td>20000.000000</td>\n",
       "      <td>20000.000000</td>\n",
       "      <td>15.990000</td>\n",
       "      <td>571.560000</td>\n",
       "      <td>9.000000e+04</td>\n",
       "      <td>23.900000</td>\n",
       "      <td>0.000000</td>\n",
       "      <td>...</td>\n",
       "      <td>10697.33000</td>\n",
       "      <td>8000.000000</td>\n",
       "      <td>2233.980000</td>\n",
       "      <td>0.000000</td>\n",
       "      <td>0.000000</td>\n",
       "      <td>0.000000</td>\n",
       "      <td>849.160000</td>\n",
       "      <td>1.0</td>\n",
       "      <td>0.000000</td>\n",
       "      <td>0.000000</td>\n",
       "    </tr>\n",
       "    <tr>\n",
       "      <th>max</th>\n",
       "      <td>6.861687e+07</td>\n",
       "      <td>7.351969e+07</td>\n",
       "      <td>35000.000000</td>\n",
       "      <td>35000.000000</td>\n",
       "      <td>35000.000000</td>\n",
       "      <td>28.990000</td>\n",
       "      <td>1445.460000</td>\n",
       "      <td>9.500000e+06</td>\n",
       "      <td>9999.000000</td>\n",
       "      <td>39.000000</td>\n",
       "      <td>...</td>\n",
       "      <td>57777.58000</td>\n",
       "      <td>35000.030000</td>\n",
       "      <td>24205.620000</td>\n",
       "      <td>358.680000</td>\n",
       "      <td>33520.270000</td>\n",
       "      <td>7002.190000</td>\n",
       "      <td>36475.590000</td>\n",
       "      <td>1.0</td>\n",
       "      <td>14.000000</td>\n",
       "      <td>1.000000</td>\n",
       "    </tr>\n",
       "  </tbody>\n",
       "</table>\n",
       "<p>8 rows × 28 columns</p>\n",
       "</div>"
      ],
      "text/plain": [
       "                 id     member_id      loan_amnt    funded_amnt  \\\n",
       "count  8.559690e+05  8.559690e+05  855969.000000  855969.000000   \n",
       "mean   3.224073e+07  3.476269e+07   14745.571335   14732.378305   \n",
       "std    2.271969e+07  2.399418e+07    8425.340005    8419.471653   \n",
       "min    5.473400e+04  7.069900e+04     500.000000     500.000000   \n",
       "25%    9.067986e+06  1.079273e+07    8000.000000    8000.000000   \n",
       "50%    3.431355e+07  3.697532e+07   13000.000000   13000.000000   \n",
       "75%    5.446311e+07  5.803559e+07   20000.000000   20000.000000   \n",
       "max    6.861687e+07  7.351969e+07   35000.000000   35000.000000   \n",
       "\n",
       "       funded_amnt_inv       int_rate    installment    annual_inc  \\\n",
       "count    855969.000000  855969.000000  855969.000000  8.559690e+05   \n",
       "mean      14700.061226      13.192320     436.238072  7.507119e+04   \n",
       "std        8425.805478       4.368365     243.726876  6.426447e+04   \n",
       "min           0.000000       5.320000      15.690000  0.000000e+00   \n",
       "25%        8000.000000       9.990000     260.550000  4.500000e+04   \n",
       "50%       13000.000000      12.990000     382.550000  6.500000e+04   \n",
       "75%       20000.000000      15.990000     571.560000  9.000000e+04   \n",
       "max       35000.000000      28.990000    1445.460000  9.500000e+06   \n",
       "\n",
       "                 dti    delinq_2yrs      ...        total_pymnt_inv  \\\n",
       "count  855969.000000  855969.000000      ...           855969.00000   \n",
       "mean       18.122165       0.311621      ...             7622.22052   \n",
       "std        17.423629       0.857189      ...             7885.15640   \n",
       "min         0.000000       0.000000      ...                0.00000   \n",
       "25%        11.880000       0.000000      ...             1960.12000   \n",
       "50%        17.610000       0.000000      ...             4948.25000   \n",
       "75%        23.900000       0.000000      ...            10697.33000   \n",
       "max      9999.000000      39.000000      ...            57777.58000   \n",
       "\n",
       "       total_rec_prncp  total_rec_int  total_rec_late_fee     recoveries  \\\n",
       "count    855969.000000  855969.000000       855969.000000  855969.000000   \n",
       "mean       5850.841088    1755.046221            0.319530      47.089499   \n",
       "std        6676.410888    2081.692980            3.609399     413.136043   \n",
       "min           0.000000       0.000000            0.000000       0.000000   \n",
       "25%        1239.950000     451.270000            0.000000       0.000000   \n",
       "50%        3286.890000    1076.910000            0.000000       0.000000   \n",
       "75%        8000.000000    2233.980000            0.000000       0.000000   \n",
       "max       35000.030000   24205.620000          358.680000   33520.270000   \n",
       "\n",
       "       collection_recovery_fee  last_pymnt_amnt  policy_code  acc_now_delinq  \\\n",
       "count            855969.000000    855969.000000     855969.0   855969.000000   \n",
       "mean                  4.951227      2225.985295          1.0        0.004944   \n",
       "std                  62.478569      4864.966593          0.0        0.077333   \n",
       "min                   0.000000         0.000000          1.0        0.000000   \n",
       "25%                   0.000000       285.420000          1.0        0.000000   \n",
       "50%                   0.000000       468.820000          1.0        0.000000   \n",
       "75%                   0.000000       849.160000          1.0        0.000000   \n",
       "max                7002.190000     36475.590000          1.0       14.000000   \n",
       "\n",
       "         default_ind  \n",
       "count  855969.000000  \n",
       "mean        0.054286  \n",
       "std         0.226581  \n",
       "min         0.000000  \n",
       "25%         0.000000  \n",
       "50%         0.000000  \n",
       "75%         0.000000  \n",
       "max         1.000000  \n",
       "\n",
       "[8 rows x 28 columns]"
      ]
     },
     "execution_count": 6,
     "metadata": {},
     "output_type": "execute_result"
    }
   ],
   "source": [
    "Credit.describe()"
   ]
  },
  {
   "cell_type": "markdown",
   "metadata": {},
   "source": [
    "## Exploratory Analysis (Univariate and Bivariate)"
   ]
  },
  {
   "cell_type": "code",
   "execution_count": 6,
   "metadata": {},
   "outputs": [
    {
     "data": {
      "image/png": "[encoded data removed]",
      "text/plain": [
       "<Figure size 1440x360 with 2 Axes>"
      ]
     },
     "metadata": {},
     "output_type": "display_data"
    },
    {
     "name": "stdout",
     "output_type": "stream",
     "text": [
      "count    855969.000000\n",
      "mean      14745.571335\n",
      "std        8425.340005\n",
      "min         500.000000\n",
      "25%        8000.000000\n",
      "50%       13000.000000\n",
      "75%       20000.000000\n",
      "max       35000.000000\n",
      "Name: loan_amnt, dtype: float64\n",
      "count    855969.000000\n",
      "mean       7653.296336\n",
      "std        7909.383591\n",
      "min           0.000000\n",
      "25%        1969.690000\n",
      "50%        4976.160000\n",
      "75%       10744.803650\n",
      "max       57777.579870\n",
      "Name: total_pymnt, dtype: float64\n"
     ]
    }
   ],
   "source": [
    "# Start with loan_amnt and total_pymnt\n",
    "\n",
    "plt.figure(figsize=[20,5])\n",
    "\n",
    "plt.subplot(1,3,1)\n",
    "sns.boxplot(x=Credit[\"loan_amnt\"])\n",
    "plt.title('Distribution of Loan Amount')\n",
    "\n",
    "plt.subplot(1,3,2)\n",
    "sns.boxplot(x=Credit[\"total_pymnt\"])\n",
    "plt.title('Distribution of Total Payment')\n",
    "plt.show()\n",
    "\n",
    "print(Credit['loan_amnt'].describe())\n",
    "print(Credit['total_pymnt'].describe())"
   ]
  },
  {
   "cell_type": "code",
   "execution_count": 8,
   "metadata": {},
   "outputs": [
    {
     "name": "stdout",
     "output_type": "stream",
     "text": [
      "count    8.559690e+05\n",
      "mean     7.507119e+04\n",
      "std      6.426447e+04\n",
      "min      0.000000e+00\n",
      "25%      4.500000e+04\n",
      "50%      6.500000e+04\n",
      "75%      9.000000e+04\n",
      "max      9.500000e+06\n",
      "Name: annual_inc, dtype: float64\n"
     ]
    },
    {
     "data": {
      "image/png": "[encoded data removed]",
      "text/plain": [
       "<Figure size 2160x720 with 1 Axes>"
      ]
     },
     "metadata": {},
     "output_type": "display_data"
    }
   ],
   "source": [
    "#Next look at borrowers annual income\n",
    "\n",
    "plt.figure(figsize=[30,10])\n",
    "\n",
    "plt.subplot(1,3,1)\n",
    "sns.distplot(Credit['annual_inc'].dropna())\n",
    "plt.title('Distribution of Borrowers Annual Income')\n",
    "print(Credit['annual_inc'].describe())"
   ]
  },
  {
   "cell_type": "code",
   "execution_count": 6,
   "metadata": {},
   "outputs": [
    {
     "data": {
      "image/png": "[encoded data removed]",
      "text/plain": [
       "<Figure size 432x288 with 1 Axes>"
      ]
     },
     "metadata": {},
     "output_type": "display_data"
    },
    {
     "name": "stdout",
     "output_type": "stream",
     "text": [
      "count    855969.000000\n",
      "mean       2225.985295\n",
      "std        4864.966593\n",
      "min           0.000000\n",
      "25%         285.420000\n",
      "50%         468.820000\n",
      "75%         849.160000\n",
      "max       36475.590000\n",
      "Name: last_pymnt_amnt, dtype: float64\n"
     ]
    }
   ],
   "source": [
    "#Next, look at last payment amount\n",
    "\n",
    "sns.distplot(Credit['last_pymnt_amnt'].dropna())\n",
    "plt.title('Distribution of Last Payment Amount')\n",
    "plt.show()\n",
    "print(Credit['last_pymnt_amnt'].describe())"
   ]
  },
  {
   "cell_type": "markdown",
   "metadata": {},
   "source": [
    "#### Will need to remove right skewness due to extreme outlier in data cleaning section. If you look at the describe method results, you'll see a maximum of 36475, when 75% of the data is under 849."
   ]
  },
  {
   "cell_type": "code",
   "execution_count": 10,
   "metadata": {},
   "outputs": [
    {
     "data": {
      "text/plain": [
       "Text(0.5,1,'Distribution of Revolving Balance')"
      ]
     },
     "execution_count": 10,
     "metadata": {},
     "output_type": "execute_result"
    },
    {
     "data": {
      "image/png": "[encoded data removed]",
      "text/plain": [
       "<Figure size 1440x360 with 1 Axes>"
      ]
     },
     "metadata": {},
     "output_type": "display_data"
    }
   ],
   "source": [
    "#Next look at Revolving Balance\n",
    "\n",
    "plt.figure(figsize=[20,5])\n",
    "\n",
    "plt.subplot(1,3,1)\n",
    "sns.distplot(Credit['revol_bal'].dropna())\n",
    "plt.title('Distribution of Revolving Balance')\n"
   ]
  },
  {
   "cell_type": "code",
   "execution_count": 11,
   "metadata": {},
   "outputs": [
    {
     "data": {
      "text/plain": [
       "Text(0.5,1,'Distribution of Total Received Interest')"
      ]
     },
     "execution_count": 11,
     "metadata": {},
     "output_type": "execute_result"
    },
    {
     "data": {
      "image/png": "[encoded data removed]",
      "text/plain": [
       "<Figure size 1440x360 with 1 Axes>"
      ]
     },
     "metadata": {},
     "output_type": "display_data"
    }
   ],
   "source": [
    "# Next look at Total Received Interest\n",
    "\n",
    "plt.figure(figsize=[20,5])\n",
    "\n",
    "plt.subplot(1,3,1)\n",
    "sns.distplot(Credit['total_rec_int'].dropna())\n",
    "plt.title('Distribution of Total Received Interest')"
   ]
  },
  {
   "cell_type": "code",
   "execution_count": 12,
   "metadata": {},
   "outputs": [
    {
     "data": {
      "text/plain": [
       "Text(0.5,1,'Distribution of Total Received Principle')"
      ]
     },
     "execution_count": 12,
     "metadata": {},
     "output_type": "execute_result"
    },
    {
     "data": {
      "image/png": "[encoded data removed]",
      "text/plain": [
       "<Figure size 1440x360 with 1 Axes>"
      ]
     },
     "metadata": {},
     "output_type": "display_data"
    }
   ],
   "source": [
    "# Next look at Total Received Principle\n",
    "\n",
    "plt.figure(figsize=[20,5])\n",
    "\n",
    "plt.subplot(1,3,1)\n",
    "sns.distplot(Credit['total_rec_prncp'].dropna())\n",
    "plt.title('Distribution of Total Received Principle')"
   ]
  },
  {
   "cell_type": "code",
   "execution_count": 13,
   "metadata": {},
   "outputs": [
    {
     "data": {
      "text/plain": [
       "Text(0.5,1,'Distribution of Total Received Late Fees')"
      ]
     },
     "execution_count": 13,
     "metadata": {},
     "output_type": "execute_result"
    },
    {
     "data": {
      "image/png": "[encoded data removed]",
      "text/plain": [
       "<Figure size 1440x360 with 1 Axes>"
      ]
     },
     "metadata": {},
     "output_type": "display_data"
    }
   ],
   "source": [
    "# Next look at Total Received Late Fees\n",
    "\n",
    "plt.figure(figsize=[20,5])\n",
    "\n",
    "plt.subplot(1,3,1)\n",
    "sns.distplot(Credit['total_rec_late_fee'].dropna())\n",
    "plt.title('Distribution of Total Received Late Fees')"
   ]
  },
  {
   "cell_type": "code",
   "execution_count": null,
   "metadata": {},
   "outputs": [],
   "source": [
    "# Next look at Total Recoveries\n",
    "\n",
    "plt.figure(figsize=[20,5])\n",
    "\n",
    "plt.subplot(1,3,1)\n",
    "sns.distplot(Credit['recoveries'].dropna())\n",
    "plt.title('Distribution of Total Recoveries')"
   ]
  },
  {
   "cell_type": "code",
   "execution_count": 7,
   "metadata": {},
   "outputs": [
    {
     "data": {
      "image/png": "[encoded data removed]",
      "text/plain": [
       "<Figure size 432x288 with 1 Axes>"
      ]
     },
     "metadata": {},
     "output_type": "display_data"
    }
   ],
   "source": [
    "sns.countplot(x='default_ind', data=Credit)\n",
    "plt.title('Did Borrower Default?')\n",
    "plt.xlabel('Default Indicator (0=No 1=Yes)')\n",
    "plt.show()"
   ]
  },
  {
   "cell_type": "code",
   "execution_count": 13,
   "metadata": {},
   "outputs": [
    {
     "data": {
      "image/png": "[encoded data removed]",
      "text/plain": [
       "<Figure size 1800x1800 with 2 Axes>"
      ]
     },
     "metadata": {},
     "output_type": "display_data"
    }
   ],
   "source": [
    "#Correlation matrix with sns.heatmap\n",
    "\n",
    "# Set up the matplotlib figure.\n",
    "f, ax = plt.subplots(figsize=(25, 25))\n",
    "\n",
    "sns.heatmap(Credit.corr())\n",
    "plt.xticks(size=20)\n",
    "plt.yticks(size=20, rotation='horizontal')\n",
    "plt.show()\n"
   ]
  },
  {
   "cell_type": "code",
   "execution_count": 4,
   "metadata": {},
   "outputs": [
    {
     "name": "stdout",
     "output_type": "stream",
     "text": [
      "id                         0\n",
      "member_id                  0\n",
      "loan_amnt                  0\n",
      "funded_amnt                0\n",
      "funded_amnt_inv            0\n",
      "term                       0\n",
      "int_rate                   0\n",
      "installment                0\n",
      "grade                      0\n",
      "sub_grade                  0\n",
      "home_ownership             0\n",
      "annual_inc                 0\n",
      "verification_status        0\n",
      "issue_d                    0\n",
      "pymnt_plan                 0\n",
      "purpose                    0\n",
      "zip_code                   0\n",
      "addr_state                 0\n",
      "dti                        0\n",
      "delinq_2yrs                0\n",
      "earliest_cr_line           0\n",
      "inq_last_6mths             0\n",
      "open_acc                   0\n",
      "pub_rec                    0\n",
      "revol_bal                  0\n",
      "total_acc                  0\n",
      "initial_list_status        0\n",
      "out_prncp                  0\n",
      "out_prncp_inv              0\n",
      "total_pymnt                0\n",
      "total_pymnt_inv            0\n",
      "total_rec_prncp            0\n",
      "total_rec_int              0\n",
      "total_rec_late_fee         0\n",
      "recoveries                 0\n",
      "collection_recovery_fee    0\n",
      "last_pymnt_amnt            0\n",
      "policy_code                0\n",
      "application_type           0\n",
      "acc_now_delinq             0\n",
      "default_ind                0\n",
      "dtype: int64\n"
     ]
    }
   ],
   "source": [
    "#Determine missing values across dataframe\n",
    "\n",
    "missing_values_count = Credit.isnull().sum()\n",
    "print(missing_values_count)"
   ]
  },
  {
   "cell_type": "code",
   "execution_count": 4,
   "metadata": {},
   "outputs": [
    {
     "data": {
      "text/html": [
       "<div>\n",
       "<style scoped>\n",
       "    .dataframe tbody tr th:only-of-type {\n",
       "        vertical-align: middle;\n",
       "    }\n",
       "\n",
       "    .dataframe tbody tr th {\n",
       "        vertical-align: top;\n",
       "    }\n",
       "\n",
       "    .dataframe thead th {\n",
       "        text-align: right;\n",
       "    }\n",
       "</style>\n",
       "<table border=\"1\" class=\"dataframe\">\n",
       "  <thead>\n",
       "    <tr style=\"text-align: right;\">\n",
       "      <th></th>\n",
       "      <th>id</th>\n",
       "      <th>member_id</th>\n",
       "      <th>loan_amnt</th>\n",
       "      <th>funded_amnt</th>\n",
       "      <th>funded_amnt_inv</th>\n",
       "      <th>term</th>\n",
       "      <th>int_rate</th>\n",
       "      <th>installment</th>\n",
       "      <th>grade</th>\n",
       "      <th>sub_grade</th>\n",
       "      <th>...</th>\n",
       "      <th>total_rec_prncp</th>\n",
       "      <th>total_rec_int</th>\n",
       "      <th>total_rec_late_fee</th>\n",
       "      <th>recoveries</th>\n",
       "      <th>collection_recovery_fee</th>\n",
       "      <th>last_pymnt_amnt</th>\n",
       "      <th>policy_code</th>\n",
       "      <th>application_type</th>\n",
       "      <th>acc_now_delinq</th>\n",
       "      <th>default_ind</th>\n",
       "    </tr>\n",
       "  </thead>\n",
       "  <tbody>\n",
       "    <tr>\n",
       "      <th>0</th>\n",
       "      <td>1077501</td>\n",
       "      <td>1296599</td>\n",
       "      <td>5000</td>\n",
       "      <td>5000</td>\n",
       "      <td>4975.0</td>\n",
       "      <td>36 months</td>\n",
       "      <td>10.65</td>\n",
       "      <td>162.87</td>\n",
       "      <td>B</td>\n",
       "      <td>B2</td>\n",
       "      <td>...</td>\n",
       "      <td>5000.00</td>\n",
       "      <td>861.07</td>\n",
       "      <td>0.00</td>\n",
       "      <td>0.00</td>\n",
       "      <td>0.00</td>\n",
       "      <td>171.62</td>\n",
       "      <td>1</td>\n",
       "      <td>INDIVIDUAL</td>\n",
       "      <td>0</td>\n",
       "      <td>0</td>\n",
       "    </tr>\n",
       "    <tr>\n",
       "      <th>1</th>\n",
       "      <td>1077430</td>\n",
       "      <td>1314167</td>\n",
       "      <td>2500</td>\n",
       "      <td>2500</td>\n",
       "      <td>2500.0</td>\n",
       "      <td>60 months</td>\n",
       "      <td>15.27</td>\n",
       "      <td>59.83</td>\n",
       "      <td>C</td>\n",
       "      <td>C4</td>\n",
       "      <td>...</td>\n",
       "      <td>456.46</td>\n",
       "      <td>435.17</td>\n",
       "      <td>0.00</td>\n",
       "      <td>117.08</td>\n",
       "      <td>1.11</td>\n",
       "      <td>119.66</td>\n",
       "      <td>1</td>\n",
       "      <td>INDIVIDUAL</td>\n",
       "      <td>0</td>\n",
       "      <td>1</td>\n",
       "    </tr>\n",
       "    <tr>\n",
       "      <th>2</th>\n",
       "      <td>1077175</td>\n",
       "      <td>1313524</td>\n",
       "      <td>2400</td>\n",
       "      <td>2400</td>\n",
       "      <td>2400.0</td>\n",
       "      <td>36 months</td>\n",
       "      <td>15.96</td>\n",
       "      <td>84.33</td>\n",
       "      <td>C</td>\n",
       "      <td>C5</td>\n",
       "      <td>...</td>\n",
       "      <td>2400.00</td>\n",
       "      <td>603.65</td>\n",
       "      <td>0.00</td>\n",
       "      <td>0.00</td>\n",
       "      <td>0.00</td>\n",
       "      <td>649.91</td>\n",
       "      <td>1</td>\n",
       "      <td>INDIVIDUAL</td>\n",
       "      <td>0</td>\n",
       "      <td>0</td>\n",
       "    </tr>\n",
       "    <tr>\n",
       "      <th>3</th>\n",
       "      <td>1076863</td>\n",
       "      <td>1277178</td>\n",
       "      <td>10000</td>\n",
       "      <td>10000</td>\n",
       "      <td>10000.0</td>\n",
       "      <td>36 months</td>\n",
       "      <td>13.49</td>\n",
       "      <td>339.31</td>\n",
       "      <td>C</td>\n",
       "      <td>C1</td>\n",
       "      <td>...</td>\n",
       "      <td>10000.00</td>\n",
       "      <td>2209.33</td>\n",
       "      <td>16.97</td>\n",
       "      <td>0.00</td>\n",
       "      <td>0.00</td>\n",
       "      <td>357.48</td>\n",
       "      <td>1</td>\n",
       "      <td>INDIVIDUAL</td>\n",
       "      <td>0</td>\n",
       "      <td>0</td>\n",
       "    </tr>\n",
       "    <tr>\n",
       "      <th>4</th>\n",
       "      <td>1075358</td>\n",
       "      <td>1311748</td>\n",
       "      <td>3000</td>\n",
       "      <td>3000</td>\n",
       "      <td>3000.0</td>\n",
       "      <td>60 months</td>\n",
       "      <td>12.69</td>\n",
       "      <td>67.79</td>\n",
       "      <td>B</td>\n",
       "      <td>B5</td>\n",
       "      <td>...</td>\n",
       "      <td>2233.10</td>\n",
       "      <td>1009.07</td>\n",
       "      <td>0.00</td>\n",
       "      <td>0.00</td>\n",
       "      <td>0.00</td>\n",
       "      <td>67.79</td>\n",
       "      <td>1</td>\n",
       "      <td>INDIVIDUAL</td>\n",
       "      <td>0</td>\n",
       "      <td>0</td>\n",
       "    </tr>\n",
       "  </tbody>\n",
       "</table>\n",
       "<p>5 rows × 41 columns</p>\n",
       "</div>"
      ],
      "text/plain": [
       "        id  member_id  loan_amnt  funded_amnt  funded_amnt_inv        term  \\\n",
       "0  1077501    1296599       5000         5000           4975.0   36 months   \n",
       "1  1077430    1314167       2500         2500           2500.0   60 months   \n",
       "2  1077175    1313524       2400         2400           2400.0   36 months   \n",
       "3  1076863    1277178      10000        10000          10000.0   36 months   \n",
       "4  1075358    1311748       3000         3000           3000.0   60 months   \n",
       "\n",
       "   int_rate  installment grade sub_grade     ...      total_rec_prncp  \\\n",
       "0     10.65       162.87     B        B2     ...              5000.00   \n",
       "1     15.27        59.83     C        C4     ...               456.46   \n",
       "2     15.96        84.33     C        C5     ...              2400.00   \n",
       "3     13.49       339.31     C        C1     ...             10000.00   \n",
       "4     12.69        67.79     B        B5     ...              2233.10   \n",
       "\n",
       "   total_rec_int total_rec_late_fee recoveries collection_recovery_fee  \\\n",
       "0         861.07               0.00       0.00                    0.00   \n",
       "1         435.17               0.00     117.08                    1.11   \n",
       "2         603.65               0.00       0.00                    0.00   \n",
       "3        2209.33              16.97       0.00                    0.00   \n",
       "4        1009.07               0.00       0.00                    0.00   \n",
       "\n",
       "  last_pymnt_amnt policy_code application_type  acc_now_delinq  default_ind  \n",
       "0          171.62           1       INDIVIDUAL               0            0  \n",
       "1          119.66           1       INDIVIDUAL               0            1  \n",
       "2          649.91           1       INDIVIDUAL               0            0  \n",
       "3          357.48           1       INDIVIDUAL               0            0  \n",
       "4           67.79           1       INDIVIDUAL               0            0  \n",
       "\n",
       "[5 rows x 41 columns]"
      ]
     },
     "execution_count": 4,
     "metadata": {},
     "output_type": "execute_result"
    }
   ],
   "source": [
    "Credit.head()"
   ]
  },
  {
   "cell_type": "markdown",
   "metadata": {},
   "source": [
    "# Feature Selection / Engineering"
   ]
  },
  {
   "cell_type": "code",
   "execution_count": 9,
   "metadata": {},
   "outputs": [
    {
     "data": {
      "text/plain": [
       "5868.9699999999975"
      ]
     },
     "execution_count": 9,
     "metadata": {},
     "output_type": "execute_result"
    }
   ],
   "source": [
    "#Get rid of skewness/outliers in receive interest\n",
    "Credit['total_rec_int'].quantile(0.95)"
   ]
  },
  {
   "cell_type": "code",
   "execution_count": 11,
   "metadata": {},
   "outputs": [],
   "source": [
    "# Transform total receievd interest based on quantile method above\n",
    "Credit = Credit[Credit['total_rec_int'] <= 12.2]"
   ]
  },
  {
   "cell_type": "markdown",
   "metadata": {},
   "source": [
    "## Define Research Question\n"
   ]
  },
  {
   "cell_type": "code",
   "execution_count": 3,
   "metadata": {},
   "outputs": [
    {
     "name": "stdout",
     "output_type": "stream",
     "text": [
      "(855969, 1882)\n"
     ]
    }
   ],
   "source": [
    "X = Credit.drop(['default_ind'], 1)\n",
    "X = pd.get_dummies(X)\n",
    "Y = Credit.total_rec_int\n",
    "\n",
    "#Show final feature count that goes into model\n",
    "print(X.shape)"
   ]
  },
  {
   "cell_type": "markdown",
   "metadata": {},
   "source": [
    "## Naive Bayes\n"
   ]
  },
  {
   "cell_type": "code",
   "execution_count": 3,
   "metadata": {},
   "outputs": [],
   "source": [
    "# Create Function\n",
    "\n",
    "def NB_Model(model):\n",
    "        import timeit\n",
    "        start = timeit.default_timer()\n",
    "        if model == 'Bernoulli':\n",
    "                NB_Model = BernoulliNB()\n",
    "                NB_Model.fit(X, Y)\n",
    "                positive_pred = NB_Model.predict(X)\n",
    "                print('\\n Percentage accuracy for Bernoulli Naive Bayes')\n",
    "        \n",
    "        elif model == 'Gaussian':\n",
    "                NB_Model = GaussianNB()\n",
    "                NB_Model.fit(X, Y)\n",
    "                positive_pred = NB_Model.predict(X)\n",
    "                print('\\n Percentage accuracy for Gaussian Naive Bayes')\n",
    "\n",
    "        else:\n",
    "                NB_Model = MultinomialNB()\n",
    "                NB_Model.fit(X, Y)\n",
    "                positive_pred = NB_Model.predict(X)\n",
    "                print('\\n Percentage accuracy for Multinomial Naive Bayes')\n",
    "            \n",
    "        print(str(NB_Model.score(X, Y)*100) + '%')\n",
    "        print('\\n Cross-Validation Score')\n",
    "        print(cross_val_score(NB_Model, X, Y, cv=5))\n",
    "        print('\\n Confusion Matrix')\n",
    "        display(confusion_matrix(Y, positive_pred))\n",
    "        \n",
    "        #Print time\n",
    "        stop = timeit.default_timer()\n",
    "        execution_time = stop - start\n",
    "        print(\"\\n\\n Program Executed in {}\".format(round(execution_time, 2)))     "
   ]
  },
  {
   "cell_type": "markdown",
   "metadata": {},
   "source": [
    "## K-Nearest Neighbors"
   ]
  },
  {
   "cell_type": "code",
   "execution_count": 4,
   "metadata": {},
   "outputs": [],
   "source": [
    "#Create function\n",
    "\n",
    "def KNN_Model(k, weight):\n",
    "    import timeit\n",
    "    start = timeit.default_timer()\n",
    "    KNN = KNeighborsClassifier(n_neighbors=k, weights=weight)\n",
    "    KNN.fit(X, Y)\n",
    "    positive_pred = KNN.predict(X)\n",
    "    print('\\n Percentage accuracy for K Nearest Neighbors Classifier')\n",
    "    print(str(KNN.score(X, Y)*100) + '%')\n",
    "    print('\\n Cross-Validation Score')\n",
    "    print(cross_val_score(KNN, X, Y, cv=5))\n",
    "    print('\\n Confusion Matrix')\n",
    "    display(confusion_matrix(Y, positive_pred))\n",
    "    \n",
    "    #Print time\n",
    "    stop = timeit.default_timer()\n",
    "    execution_time = stop - start\n",
    "    print(\"\\n\\n Program Executed in {}\".format(round(execution_time, 2)))"
   ]
  },
  {
   "cell_type": "markdown",
   "metadata": {},
   "source": [
    "## Random Forest\n"
   ]
  },
  {
   "cell_type": "code",
   "execution_count": 5,
   "metadata": {},
   "outputs": [],
   "source": [
    "#Create function\n",
    "\n",
    "def RFC_Model(trees, criteria, num_features, depth):\n",
    "    import timeit\n",
    "    start = timeit.default_timer()\n",
    "    rfc = ensemble.RandomForestClassifier(n_estimators=trees, criterion=criteria, max_features=num_features, max_depth=depth)\n",
    "    rfc.fit(X, Y)\n",
    "    positive_pred = rfc.predict(X)\n",
    "    print('\\n Percentage accuracy for Random Forest Classifier')\n",
    "    print(str(rfc.score(X, Y)*100) + '%')\n",
    "    print('\\n Cross-Validation Score')\n",
    "    print(cross_val_score(rfc, X, Y, cv=5))\n",
    "    print('\\n Confusion Matrix')\n",
    "    display(confusion_matrix(Y, positive_pred))\n",
    "    \n",
    "    #Print time\n",
    "    stop = timeit.default_timer()\n",
    "    execution_time = stop - start\n",
    "    print(\"\\n\\n Program Executed in {}\".format(round(execution_time, 2)))"
   ]
  },
  {
   "cell_type": "markdown",
   "metadata": {},
   "source": [
    "## Logistic Regression"
   ]
  },
  {
   "cell_type": "code",
   "execution_count": 6,
   "metadata": {},
   "outputs": [],
   "source": [
    "#Create function\n",
    "\n",
    "def Logistic_Reg_Model(regularization, alpha):\n",
    "    import timeit\n",
    "    start = timeit.default_timer()\n",
    "    if regularization == 'l1':\n",
    "        lr_lasso = LogisticRegression(penalty=regularization, C=alpha)\n",
    "        lr_lasso.fit(X, Y)\n",
    "        positive_pred = lr_lasso.predict(X)\n",
    "        print('\\n Percentage accuracy for Lasso Logistic Regression')\n",
    "        print(str(lr_lasso.score(X, Y)*100) + '%')\n",
    "        print('\\n Cross-Validation Score')\n",
    "        print(cross_val_score(lr_lasso, X, Y, cv=5))\n",
    "        print('\\n Confusion Matrix')\n",
    "        display(confusion_matrix(Y, positive_pred))\n",
    "        \n",
    "    elif regularization == 'l2' and alpha == 1e9:\n",
    "        lr_regular = LogisticRegression(penalty=regularization, C=alpha)\n",
    "        lr_regular.fit(X, Y)\n",
    "        positive_pred = lr_regular.predict(X)\n",
    "        print('\\n Percentage accuracy for Logistic Regression')\n",
    "        print(str(lr_regular.score(X, Y)*100) + '%')\n",
    "        print('\\n Cross-Validation Score')\n",
    "        print(cross_val_score(lr_regular, X, Y, cv=5))\n",
    "        print('\\n Confusion Matrix')\n",
    "        display(confusion_matrix(Y, positive_pred))\n",
    "    else:\n",
    "        lr_ridge = LogisticRegression(penalty=regularization, C=alpha)\n",
    "        lr_ridge.fit(X, Y)\n",
    "        positive_pred = lr_ridge.predict(X)\n",
    "        print('\\n Percentage accuracy for Ridge Logistic Regression')\n",
    "        print(str(lr_ridge.score(X, Y)*100) + '%')\n",
    "        print('\\n Cross-Validation Score')\n",
    "        print(cross_val_score(lr_ridge, X, Y, cv=5))\n",
    "        print('\\n Confusion Matrix')\n",
    "        display(confusion_matrix(Y, positive_pred))\n",
    "        \n",
    "     #Print time\n",
    "    stop = timeit.default_timer()\n",
    "    execution_time = stop - start\n",
    "    print(\"\\n\\n Program Executed in {}\".format(round(execution_time, 2)))"
   ]
  },
  {
   "cell_type": "markdown",
   "metadata": {},
   "source": [
    "## Support Vector Classifer"
   ]
  },
  {
   "cell_type": "code",
   "execution_count": 7,
   "metadata": {},
   "outputs": [],
   "source": [
    "#Create function\n",
    "\n",
    "def SVC_Model(c, kernel_type):\n",
    "    import timeit\n",
    "    start = timeit.default_timer()\n",
    "    svm = SVC(C=c, kernel=kernel_type)\n",
    "    svm.fit(X, Y)\n",
    "    positive_pred = svm.predict(X)\n",
    "    print('\\n Percentage accuracy for SVM')\n",
    "    print(str(svm.score(X, Y)*100) + '%')\n",
    "    print('\\n Cross-Validation Score')\n",
    "    print(cross_val_score(svm, X, Y, cv=5))\n",
    "    print('\\n Confusion Matrix')\n",
    "    display(confusion_matrix(Y, positive_pred))\n",
    "    \n",
    "    #Print time\n",
    "    stop = timeit.default_timer()\n",
    "    execution_time = stop - start\n",
    "    print(\"\\n\\n Program Executed in {}\".format(round(execution_time, 2)))"
   ]
  },
  {
   "cell_type": "markdown",
   "metadata": {},
   "source": [
    "## Gradient Boosting"
   ]
  },
  {
   "cell_type": "code",
   "execution_count": 8,
   "metadata": {},
   "outputs": [],
   "source": [
    "#Create function\n",
    "\n",
    "def Gradient_Boost_Model(estimators, depth, loss_function, sampling):\n",
    "    import timeit\n",
    "    start = timeit.default_timer()\n",
    "    clf = ensemble.GradientBoostingClassifier(n_estimators=estimators, max_depth=depth, loss=loss_function, subsample=sampling)\n",
    "    clf.fit(X, Y)\n",
    "    positive_pred = clf.predict(X)\n",
    "    print('\\n Percentage accuracy for Gradient Boosting Classifier')\n",
    "    print(str(clf.score(X, Y)*100) + '%')\n",
    "    print('\\n Cross-Validation Score')\n",
    "    print(cross_val_score(clf, X, Y, cv=5))\n",
    "    print('\\n Confusion Matrix')\n",
    "    display(confusion_matrix(Y, positive_pred))\n",
    "    \n",
    "    #Print time\n",
    "    stop = timeit.default_timer()\n",
    "    execution_time = stop - start\n",
    "    print(\"\\n\\n Program Executed in {}\".format(round(execution_time, 2)))"
   ]
  },
  {
   "cell_type": "markdown",
   "metadata": {},
   "source": [
    "## Run Initial Models, Default Parameters"
   ]
  },
  {
   "cell_type": "code",
   "execution_count": 9,
   "metadata": {},
   "outputs": [],
   "source": [
    "#Use a sample so that our models will run without using too much computing power\n",
    "Credit = Credit.sample(n = 1000)\n",
    "\n",
    "#Reestablish X and Y\n",
    "X = Credit.drop(['default_ind'], 1)\n",
    "X = pd.get_dummies(X)\n",
    "Y = Credit.default_ind"
   ]
  },
  {
   "cell_type": "code",
   "execution_count": 10,
   "metadata": {},
   "outputs": [
    {
     "name": "stdout",
     "output_type": "stream",
     "text": [
      "<class 'pandas.core.frame.DataFrame'>\n",
      "Int64Index: 1000 entries, 607537 to 724428\n",
      "Data columns (total 41 columns):\n",
      "id                         1000 non-null int64\n",
      "member_id                  1000 non-null int64\n",
      "loan_amnt                  1000 non-null int64\n",
      "funded_amnt                1000 non-null int64\n",
      "funded_amnt_inv            1000 non-null float64\n",
      "term                       1000 non-null object\n",
      "int_rate                   1000 non-null float64\n",
      "installment                1000 non-null float64\n",
      "grade                      1000 non-null object\n",
      "sub_grade                  1000 non-null object\n",
      "home_ownership             1000 non-null object\n",
      "annual_inc                 1000 non-null float64\n",
      "verification_status        1000 non-null object\n",
      "issue_d                    1000 non-null object\n",
      "pymnt_plan                 1000 non-null object\n",
      "purpose                    1000 non-null object\n",
      "zip_code                   1000 non-null object\n",
      "addr_state                 1000 non-null object\n",
      "dti                        1000 non-null float64\n",
      "delinq_2yrs                1000 non-null int64\n",
      "earliest_cr_line           1000 non-null object\n",
      "inq_last_6mths             1000 non-null int64\n",
      "open_acc                   1000 non-null int64\n",
      "pub_rec                    1000 non-null int64\n",
      "revol_bal                  1000 non-null int64\n",
      "total_acc                  1000 non-null int64\n",
      "initial_list_status        1000 non-null object\n",
      "out_prncp                  1000 non-null float64\n",
      "out_prncp_inv              1000 non-null float64\n",
      "total_pymnt                1000 non-null float64\n",
      "total_pymnt_inv            1000 non-null float64\n",
      "total_rec_prncp            1000 non-null float64\n",
      "total_rec_int              1000 non-null float64\n",
      "total_rec_late_fee         1000 non-null float64\n",
      "recoveries                 1000 non-null float64\n",
      "collection_recovery_fee    1000 non-null float64\n",
      "last_pymnt_amnt            1000 non-null float64\n",
      "policy_code                1000 non-null int64\n",
      "application_type           1000 non-null object\n",
      "acc_now_delinq             1000 non-null int64\n",
      "default_ind                1000 non-null int64\n",
      "dtypes: float64(15), int64(13), object(13)\n",
      "memory usage: 328.1+ KB\n"
     ]
    }
   ],
   "source": [
    "Credit.info()\n"
   ]
  },
  {
   "cell_type": "code",
   "execution_count": 21,
   "metadata": {},
   "outputs": [
    {
     "name": "stdout",
     "output_type": "stream",
     "text": [
      "Baseline accuracy for Borrower Defaulting is: 5.34%\n"
     ]
    }
   ],
   "source": [
    "#Calculate baseline accuracy for default indicator\n",
    "Default_total = Credit['default_ind'].sum()\n",
    "print('Baseline accuracy for Borrower Defaulting is: ' + str(round((Default_total/Credit.shape[0])*100, 2)) + '%')\n"
   ]
  },
  {
   "cell_type": "code",
   "execution_count": 22,
   "metadata": {},
   "outputs": [
    {
     "name": "stdout",
     "output_type": "stream",
     "text": [
      "\n",
      " Percentage accuracy for Bernoulli Naive Bayes\n",
      "97.52%\n",
      "\n",
      " Cross-Validation Score\n",
      "[0.98001    0.9805     0.9745     0.97       0.96798399]\n",
      "\n",
      " Confusion Matrix\n"
     ]
    },
    {
     "data": {
      "text/plain": [
       "array([[9248,  218],\n",
       "       [  30,  504]])"
      ]
     },
     "metadata": {},
     "output_type": "display_data"
    },
    {
     "name": "stdout",
     "output_type": "stream",
     "text": [
      "\n",
      "\n",
      " Program Executed in 9.71\n",
      "\n",
      "\n",
      "\n",
      "\n",
      " Percentage accuracy for K Nearest Neighbors Classifier\n",
      "98.05%\n",
      "\n",
      " Cross-Validation Score\n",
      "[0.97751124 0.9705     0.974      0.969      0.97098549]\n",
      "\n",
      " Confusion Matrix\n"
     ]
    },
    {
     "data": {
      "text/plain": [
       "array([[9365,  101],\n",
       "       [  94,  440]])"
      ]
     },
     "metadata": {},
     "output_type": "display_data"
    },
    {
     "name": "stdout",
     "output_type": "stream",
     "text": [
      "\n",
      "\n",
      " Program Executed in 54.13\n",
      "\n",
      "\n",
      "\n",
      "\n",
      " Percentage accuracy for Random Forest Classifier\n",
      "100.0%\n",
      "\n",
      " Cross-Validation Score\n",
      "[0.99950025 0.9985     0.9975     0.999      0.99849925]\n",
      "\n",
      " Confusion Matrix\n"
     ]
    },
    {
     "data": {
      "text/plain": [
       "array([[9466,    0],\n",
       "       [   0,  534]])"
      ]
     },
     "metadata": {},
     "output_type": "display_data"
    },
    {
     "name": "stdout",
     "output_type": "stream",
     "text": [
      "\n",
      "\n",
      " Program Executed in 4.37\n",
      "\n",
      "\n",
      "\n",
      "\n",
      " Percentage accuracy for Logistic Regression\n",
      "98.68%\n",
      "\n",
      " Cross-Validation Score\n",
      "[0.97901049 0.9755     0.9725     0.974      0.97748874]\n",
      "\n",
      " Confusion Matrix\n"
     ]
    },
    {
     "data": {
      "text/plain": [
       "array([[9437,   29],\n",
       "       [ 103,  431]])"
      ]
     },
     "metadata": {},
     "output_type": "display_data"
    },
    {
     "name": "stdout",
     "output_type": "stream",
     "text": [
      "\n",
      "\n",
      " Program Executed in 6.46\n",
      "\n",
      "\n",
      "\n",
      "\n",
      " Percentage accuracy for Lasso Logistic Regression\n",
      "99.95%\n",
      "\n",
      " Cross-Validation Score\n",
      "[0.99850075 0.9995     0.9985     0.999      0.9989995 ]\n",
      "\n",
      " Confusion Matrix\n"
     ]
    },
    {
     "data": {
      "text/plain": [
       "array([[9466,    0],\n",
       "       [   5,  529]])"
      ]
     },
     "metadata": {},
     "output_type": "display_data"
    },
    {
     "name": "stdout",
     "output_type": "stream",
     "text": [
      "\n",
      "\n",
      " Program Executed in 27.4\n",
      "\n",
      "\n",
      "\n",
      "\n",
      " Percentage accuracy for Ridge Logistic Regression\n",
      "98.88%\n",
      "\n",
      " Cross-Validation Score\n",
      "[0.99250375 0.9865     0.9725     0.9745     0.99249625]\n",
      "\n",
      " Confusion Matrix\n"
     ]
    },
    {
     "data": {
      "text/plain": [
       "array([[9453,   13],\n",
       "       [  99,  435]])"
      ]
     },
     "metadata": {},
     "output_type": "display_data"
    },
    {
     "name": "stdout",
     "output_type": "stream",
     "text": [
      "\n",
      "\n",
      " Program Executed in 6.8\n",
      "\n",
      "\n",
      "\n",
      "\n",
      " Percentage accuracy for SVM\n",
      "100.0%\n",
      "\n",
      " Cross-Validation Score\n",
      "[0.94652674 0.9465     0.9465     0.9465     0.94697349]\n",
      "\n",
      " Confusion Matrix\n"
     ]
    },
    {
     "data": {
      "text/plain": [
       "array([[9466,    0],\n",
       "       [   0,  534]])"
      ]
     },
     "metadata": {},
     "output_type": "display_data"
    },
    {
     "name": "stdout",
     "output_type": "stream",
     "text": [
      "\n",
      "\n",
      " Program Executed in 4193.02\n",
      "\n",
      "\n",
      "\n",
      "\n",
      " Percentage accuracy for Gradient Boosting Classifier\n",
      "100.0%\n",
      "\n",
      " Cross-Validation Score\n",
      "[1.         0.9995     0.9995     0.999      0.99949975]\n",
      "\n",
      " Confusion Matrix\n"
     ]
    },
    {
     "data": {
      "text/plain": [
       "array([[9466,    0],\n",
       "       [   0,  534]])"
      ]
     },
     "metadata": {},
     "output_type": "display_data"
    },
    {
     "name": "stdout",
     "output_type": "stream",
     "text": [
      "\n",
      "\n",
      " Program Executed in 169.84\n"
     ]
    }
   ],
   "source": [
    "#Run all models with default criteria, with returns in between so we can easily read\n",
    "\n",
    "#Bernoulli Naive Bayes\n",
    "NB_Model('Bernoulli')\n",
    "print('\\n\\n')\n",
    "\n",
    "#K-Nearest Neighbors\n",
    "KNN_Model(5, 'uniform')\n",
    "print('\\n\\n')\n",
    "\n",
    "#Random Forest\n",
    "RFC_Model(10, 'gini', 'auto', None)\n",
    "print('\\n\\n')\n",
    "\n",
    "#Plain Logistic Regression\n",
    "Logistic_Reg_Model('l2', 1e9)\n",
    "print('\\n\\n')\n",
    "\n",
    "#Lasso Logistic Regression\n",
    "Logistic_Reg_Model('l1', 1.0)\n",
    "print('\\n\\n')\n",
    "\n",
    "#Ridge Logistic Regression\n",
    "Logistic_Reg_Model('l2', 1.0)\n",
    "print('\\n\\n')\n",
    "\n",
    "#Support Vector Classifier\n",
    "SVC_Model(1.0, 'rbf')\n",
    "print('\\n\\n')\n",
    "\n",
    "#Gradient boost classifier\n",
    "Gradient_Boost_Model(100, 3, 'deviance', 1.0)"
   ]
  },
  {
   "cell_type": "markdown",
   "metadata": {},
   "source": [
    "## Finding the Right Values for our Parameters"
   ]
  },
  {
   "cell_type": "code",
   "execution_count": 11,
   "metadata": {},
   "outputs": [],
   "source": [
    "def tuned_params(model):\n",
    "    \n",
    "        if model == 'KNN':\n",
    "                KNN = np.arange(1, 501, 100)\n",
    "                KNN_df = pd.DataFrame()\n",
    "                for i in KNN:\n",
    "                    KNN_model = KNeighborsClassifier(n_neighbors=i, weights='distance')\n",
    "                    KNN_model.fit(X, Y)\n",
    "                    positive_pred = KNN_model.predict(X)\n",
    "                    cross_val = cross_val_score(KNN_model, X, Y, cv=5).mean()*100\n",
    "                    score = KNN_model.score(X, Y)*100\n",
    "                    KNN_df_temp = pd.DataFrame({'K': i, 'training': score, 'test': cross_val}, index=[0])\n",
    "                    KNN_df = KNN_df.append(KNN_df_temp)\n",
    "                plt.plot(KNN_df['K'], KNN_df['training'], color = 'r', linewidth = 3, label='Training')\n",
    "                plt.plot(KNN_df['K'], KNN_df['test'], color = 'b', linewidth = 3, label='Test')\n",
    "                plt.xlabel('K Parameter', fontsize=20)\n",
    "                plt.title('KNN - Training vs. Test')\n",
    "                plt.show()\n",
    "                \n",
    "        elif model == 'Random Forest':\n",
    "                random_forest = np.arange(100, 500, 100)\n",
    "                random_forest_df = pd.DataFrame()\n",
    "                for i in random_forest:\n",
    "                    rfc = ensemble.RandomForestClassifier(n_estimators=i)\n",
    "                    rfc.fit(X, Y)\n",
    "                    positive_pred = rfc.predict(X)\n",
    "                    cross_val = cross_val_score(rfc, X, Y, cv=5).mean()*100\n",
    "                    score = rfc.score(X, Y)*100\n",
    "                    random_forest_df_temp = pd.DataFrame({'estimators': i, 'training': score, 'test': cross_val}, index=[0])\n",
    "                    random_forest_df = random_forest_df.append(random_forest_df_temp)\n",
    "                plt.plot(random_forest_df['estimators'], random_forest_df['training'], color = 'r', linewidth = 3, label='Training')\n",
    "                plt.plot(random_forest_df['estimators'], random_forest_df['test'], color = 'b', linewidth = 3, label='Test')\n",
    "                plt.xlabel('Estimators Parameter', fontsize=20)\n",
    "                plt.title('Random Forest - Training vs. Test')\n",
    "                plt.show()\n",
    "        \n",
    "        elif model == 'Lasso':\n",
    "                lasso = np.arange(0.2, 1.0, 0.2)\n",
    "                lasso_df = pd.DataFrame()\n",
    "                for i in lasso:\n",
    "                    lr_lasso = LogisticRegression(penalty='l1', C=i)\n",
    "                    lr_lasso.fit(X, Y)\n",
    "                    positive_pred = lr_lasso.predict(X)\n",
    "                    cross_val = cross_val_score(lr_lasso, X, Y, cv=5).mean()*100\n",
    "                    score = lr_lasso.score(X, Y)*100\n",
    "                    lasso_df_temp = pd.DataFrame({'C': i, 'training': score, 'test': cross_val}, index=[0])\n",
    "                    lasso_df = lasso_df.append(lasso_df_temp)\n",
    "                plt.plot(lasso_df['C'], lasso_df['training'], color = 'r', linewidth = 3, label='Training')\n",
    "                plt.plot(lasso_df['C'], lasso_df['test'], color = 'b', linewidth = 3, label='Test')\n",
    "                plt.xlabel('C Parameter', fontsize=20)\n",
    "                plt.title('Lasso - Training vs. Test')\n",
    "                plt.show()\n",
    "            \n",
    "        elif model == 'Ridge':\n",
    "                ridge = np.arange(1, 5001, 1000)\n",
    "                ridge_df = pd.DataFrame()\n",
    "                for i in ridge:\n",
    "                    lr_ridge = LogisticRegression(C=i)\n",
    "                    lr_ridge.fit(X, Y)\n",
    "                    positive_pred = lr_ridge.predict(X)\n",
    "                    cross_val = cross_val_score(lr_ridge, X, Y, cv=5).mean()*100\n",
    "                    score = lr_ridge.score(X, Y)*100\n",
    "                    ridge_df_temp = pd.DataFrame({'C': i, 'training': score, 'test': cross_val}, index=[0])\n",
    "                    ridge_df = ridge_df.append(ridge_df_temp)\n",
    "                plt.plot(ridge_df['C'], ridge_df['training'], color = 'r', linewidth = 3, label='Training')\n",
    "                plt.plot(ridge_df['C'], ridge_df['test'], color = 'b', linewidth = 3, label='Test')\n",
    "                plt.xlabel('C Parameter', fontsize=20)\n",
    "                plt.title('Ridge - Training vs. Test')\n",
    "                plt.show()\n",
    "                \n",
    "        elif model == 'SVC':\n",
    "                svc = np.arange(0.2, 1.0, 0.2)\n",
    "                svc_df = pd.DataFrame()\n",
    "                for i in svc:\n",
    "                    svm = SVC(C=i)\n",
    "                    svm.fit(X, Y)\n",
    "                    positive_pred = svm.predict(X)\n",
    "                    cross_val = cross_val_score(svm, X, Y, cv=5).mean()*100\n",
    "                    score = svm.score(X, Y)*100\n",
    "                    svc_df_temp = pd.DataFrame({'C': i, 'training': score, 'test': cross_val}, index=[0])\n",
    "                    svc_df = svc_df.append(svc_df_temp)\n",
    "                plt.plot(svc_df['C'], svc_df['training'], color = 'r', linewidth = 3, label='Training')\n",
    "                plt.plot(svc_df['C'], svc_df['test'], color = 'b', linewidth = 3, label='Test')\n",
    "                plt.xlabel('C Parameter', fontsize=20)\n",
    "                plt.title('SVC - Training vs. Test', fontsize=30)\n",
    "                plt.show()\n",
    "                \n",
    "        else:\n",
    "                grad_boost = np.arange(100, 500, 100)\n",
    "                grad_boost_df = pd.DataFrame()\n",
    "                for i in grad_boost:\n",
    "                    clf = ensemble.GradientBoostingClassifier(n_estimators=i)\n",
    "                    clf.fit(X, Y)\n",
    "                    positive_pred = clf.predict(X)\n",
    "                    cross_val = cross_val_score(clf, X, Y, cv=5).mean()*100\n",
    "                    score = clf.score(X, Y)*100\n",
    "                    grad_boost_df_temp = pd.DataFrame({'estimators': i, 'training': score, 'test': cross_val}, index=[0])\n",
    "                    grad_boost_df = grad_boost_df.append(grad_boost_df_temp)\n",
    "                plt.plot(grad_boost_df['estimators'], grad_boost_df['training'], color = 'r', linewidth = 3, label='Training')\n",
    "                plt.plot(grad_boost_df['estimators'], grad_boost_df['test'], color = 'b', linewidth = 3, label='Test')\n",
    "                plt.xlabel('Estimators Parameter', fontsize=20)\n",
    "                plt.title('Gradient Boost - Training vs. Test')\n",
    "                plt.show()"
   ]
  },
  {
   "cell_type": "code",
   "execution_count": 24,
   "metadata": {},
   "outputs": [
    {
     "data": {
      "image/png": "[encoded data removed]",
      "text/plain": [
       "<Figure size 432x288 with 1 Axes>"
      ]
     },
     "metadata": {},
     "output_type": "display_data"
    }
   ],
   "source": [
    "tuned_params('KNN')"
   ]
  },
  {
   "cell_type": "code",
   "execution_count": 25,
   "metadata": {},
   "outputs": [
    {
     "data": {
      "image/png": "[encoded data removed]",
      "text/plain": [
       "<Figure size 432x288 with 1 Axes>"
      ]
     },
     "metadata": {},
     "output_type": "display_data"
    }
   ],
   "source": [
    "tuned_params('Random Forest')"
   ]
  },
  {
   "cell_type": "code",
   "execution_count": 27,
   "metadata": {},
   "outputs": [
    {
     "data": {
      "image/png": "[encoded data removed]",
      "text/plain": [
       "<Figure size 432x288 with 1 Axes>"
      ]
     },
     "metadata": {},
     "output_type": "display_data"
    }
   ],
   "source": [
    "tuned_params('Lasso')"
   ]
  },
  {
   "cell_type": "code",
   "execution_count": 28,
   "metadata": {},
   "outputs": [
    {
     "data": {
      "image/png": "[encoded data removed]",
      "text/plain": [
       "<Figure size 432x288 with 1 Axes>"
      ]
     },
     "metadata": {},
     "output_type": "display_data"
    }
   ],
   "source": [
    "tuned_params('Ridge')"
   ]
  },
  {
   "cell_type": "code",
   "execution_count": 11,
   "metadata": {},
   "outputs": [
    {
     "data": {
      "image/png": "[encoded data removed]",
      "text/plain": [
       "<Figure size 432x288 with 1 Axes>"
      ]
     },
     "metadata": {},
     "output_type": "display_data"
    }
   ],
   "source": [
    "tuned_params('SVC')"
   ]
  },
  {
   "cell_type": "code",
   "execution_count": 24,
   "metadata": {},
   "outputs": [
    {
     "data": {
      "image/png": "[encoded data removed]",
      "text/plain": [
       "<Figure size 432x288 with 1 Axes>"
      ]
     },
     "metadata": {},
     "output_type": "display_data"
    }
   ],
   "source": [
    "tuned_params('Gradient Boost')"
   ]
  },
  {
   "cell_type": "markdown",
   "metadata": {},
   "source": [
    "## Run Models Again, This Time with Tuned Parameters"
   ]
  },
  {
   "cell_type": "code",
   "execution_count": null,
   "metadata": {
    "scrolled": false
   },
   "outputs": [
    {
     "name": "stdout",
     "output_type": "stream",
     "text": [
      "\n",
      " Percentage accuracy for Gaussian Naive Bayes\n",
      "85.21%\n",
      "\n",
      " Cross-Validation Score\n",
      "[0.85207396 0.8605     0.854      0.847      0.84842421]\n",
      "\n",
      " Confusion Matrix\n"
     ]
    },
    {
     "data": {
      "text/plain": [
       "array([[8000, 1411],\n",
       "       [  68,  521]])"
      ]
     },
     "metadata": {},
     "output_type": "display_data"
    },
    {
     "name": "stdout",
     "output_type": "stream",
     "text": [
      "\n",
      "\n",
      " Program Executed in 8.79\n",
      "\n",
      "\n",
      "\n",
      "\n",
      " Percentage accuracy for K Nearest Neighbors Classifier\n",
      "100.0%\n",
      "\n",
      " Cross-Validation Score\n",
      "[0.94102949 0.941      0.941      0.941      0.94147074]\n",
      "\n",
      " Confusion Matrix\n"
     ]
    },
    {
     "data": {
      "text/plain": [
       "array([[9411,    0],\n",
       "       [   0,  589]])"
      ]
     },
     "metadata": {},
     "output_type": "display_data"
    },
    {
     "name": "stdout",
     "output_type": "stream",
     "text": [
      "\n",
      "\n",
      " Program Executed in 54.37\n",
      "\n",
      "\n",
      "\n",
      "\n",
      " Percentage accuracy for Random Forest Classifier\n",
      "99.99%\n",
      "\n",
      " Cross-Validation Score\n",
      "[0.98350825 0.983      0.983      0.9795     0.97998999]\n",
      "\n",
      " Confusion Matrix\n"
     ]
    },
    {
     "data": {
      "text/plain": [
       "array([[9411,    0],\n",
       "       [   1,  588]])"
      ]
     },
     "metadata": {},
     "output_type": "display_data"
    },
    {
     "name": "stdout",
     "output_type": "stream",
     "text": [
      "\n",
      "\n",
      " Program Executed in 18.26\n",
      "\n",
      "\n",
      "\n",
      "\n",
      " Percentage accuracy for Lasso Logistic Regression\n",
      "99.61%\n",
      "\n",
      " Cross-Validation Score\n",
      "[0.996002  0.9925    0.996     0.995     0.9969985]\n",
      "\n",
      " Confusion Matrix\n"
     ]
    },
    {
     "data": {
      "text/plain": [
       "array([[9411,    0],\n",
       "       [  39,  550]])"
      ]
     },
     "metadata": {},
     "output_type": "display_data"
    },
    {
     "name": "stdout",
     "output_type": "stream",
     "text": [
      "\n",
      "\n",
      " Program Executed in 45.34\n",
      "\n",
      "\n",
      "\n",
      "\n",
      " Percentage accuracy for Ridge Logistic Regression\n",
      "99.29%\n",
      "\n",
      " Cross-Validation Score\n",
      "[0.99350325 0.9915     0.9945     0.9815     0.99549775]\n",
      "\n",
      " Confusion Matrix\n"
     ]
    },
    {
     "data": {
      "text/plain": [
       "array([[9408,    3],\n",
       "       [  68,  521]])"
      ]
     },
     "metadata": {},
     "output_type": "display_data"
    },
    {
     "name": "stdout",
     "output_type": "stream",
     "text": [
      "\n",
      "\n",
      " Program Executed in 4.93\n",
      "\n",
      "\n",
      "\n"
     ]
    }
   ],
   "source": [
    "#Run Gaussian instead of Bernoulli\n",
    "NB_Model('Gaussian')\n",
    "print('\\n\\n')\n",
    "\n",
    "#K-Nearest Neighbors (use 100 for K instead of 5 and 'distance' for weight)\n",
    "KNN_Model(100, 'distance')\n",
    "print('\\n\\n')\n",
    "\n",
    "#Random Forest (use 50 trees, 'entropy' as the criterion)\n",
    "RFC_Model(50, 'entropy', 'auto', None)\n",
    "print('\\n\\n')\n",
    "\n",
    "#Lasso Logistic Regression (change alpha to 0.5)\n",
    "Logistic_Reg_Model('l1', 0.2)\n",
    "print('\\n\\n')\n",
    "\n",
    "#Ridge Logistic Regression (change alpha to 5000)\n",
    "Logistic_Reg_Model('l2', 5000)\n",
    "print('\\n\\n')\n",
    "\n"
   ]
  },
  {
   "cell_type": "code",
   "execution_count": null,
   "metadata": {},
   "outputs": [],
   "source": [
    "#Support Vector Classifier (change kernel to 'linear')\n",
    "SVC_Model(1.0, 'linear')\n",
    "print('\\n\\n')\n",
    "\n"
   ]
  },
  {
   "cell_type": "code",
   "execution_count": 8,
   "metadata": {},
   "outputs": [
    {
     "name": "stdout",
     "output_type": "stream",
     "text": [
      "\n",
      " Percentage accuracy for Gradient Boosting Classifier\n",
      "100.0%\n",
      "\n",
      " Cross-Validation Score\n",
      "[0.9800995  0.95       0.97       0.97       0.93467337]\n",
      "\n",
      " Confusion Matrix\n"
     ]
    },
    {
     "data": {
      "text/plain": [
       "array([[944,   0],\n",
       "       [  0,  56]])"
      ]
     },
     "metadata": {},
     "output_type": "display_data"
    },
    {
     "name": "stdout",
     "output_type": "stream",
     "text": [
      "\n",
      "\n",
      " Program Executed in 42.41\n"
     ]
    }
   ],
   "source": [
    "#Gradient boost classifier (more estimators and subsampling)\n",
    "Gradient_Boost_Model(300, 3, 'deviance', 0.8)"
   ]
  },
  {
   "cell_type": "code",
   "execution_count": 8,
   "metadata": {},
   "outputs": [
    {
     "data": {
      "text/plain": [
       "Text(0,0.5,'Cumulative Explained Variance')"
      ]
     },
     "execution_count": 8,
     "metadata": {},
     "output_type": "execute_result"
    },
    {
     "data": {
      "image/png": "[encoded data removed]",
      "text/plain": [
       "<Figure size 432x288 with 1 Axes>"
      ]
     },
     "metadata": {},
     "output_type": "display_data"
    }
   ],
   "source": [
    "#Determining proper number of components\n",
    "\n",
    "from sklearn.decomposition import PCA \n",
    "\n",
    "pca = PCA().fit(X)\n",
    "plt.plot(np.cumsum(pca.explained_variance_ratio_))\n",
    "plt.xlabel('Number of Components')\n",
    "plt.xticks(np.arange(0,100, 5), rotation = 'vertical')\n",
    "plt.ylabel('Cumulative Explained Variance')"
   ]
  },
  {
   "cell_type": "code",
   "execution_count": 10,
   "metadata": {},
   "outputs": [
    {
     "name": "stdout",
     "output_type": "stream",
     "text": [
      "The percentage of total variance in the dataset explained by each component from Sklearn PCA.\n",
      " [9.99761351e-01 2.35240653e-04 2.66870760e-06 4.07578515e-07\n",
      " 2.09724542e-07]\n"
     ]
    }
   ],
   "source": [
    "sklearn_pca = PCA(n_components=5)\n",
    "Credit_pca = sklearn_pca.fit_transform(X)\n",
    "\n",
    "print(\n",
    "    'The percentage of total variance in the dataset explained by each',\n",
    "    'component from Sklearn PCA.\\n',\n",
    "    sklearn_pca.explained_variance_ratio_)"
   ]
  },
  {
   "cell_type": "code",
   "execution_count": 11,
   "metadata": {},
   "outputs": [
    {
     "data": {
      "text/plain": [
       "(10000, 5)"
      ]
     },
     "execution_count": 11,
     "metadata": {},
     "output_type": "execute_result"
    }
   ],
   "source": [
    "#Confirm dimensionality reduction\n",
    "Credit_pca.shape"
   ]
  },
  {
   "cell_type": "code",
   "execution_count": 21,
   "metadata": {
    "scrolled": false
   },
   "outputs": [
    {
     "name": "stdout",
     "output_type": "stream",
     "text": [
      "\n",
      " Percentage accuracy for Bernoulli Naive Bayes\n",
      "94.69999999999999%\n",
      "\n",
      " Cross-Validation Score\n",
      "[0.947 0.947 0.947 0.947 0.947]\n",
      "\n",
      " Confusion Matrix\n"
     ]
    },
    {
     "data": {
      "text/plain": [
       "array([[9470,    0],\n",
       "       [ 530,    0]])"
      ]
     },
     "metadata": {},
     "output_type": "display_data"
    },
    {
     "name": "stdout",
     "output_type": "stream",
     "text": [
      "\n",
      "\n",
      " Program Executed in 0.14\n",
      "\n",
      "\n",
      "\n",
      "\n",
      " Percentage accuracy for K Nearest Neighbors Classifier\n",
      "94.77%\n",
      "\n",
      " Cross-Validation Score\n",
      "[0.9455 0.9455 0.947  0.9465 0.9455]\n",
      "\n",
      " Confusion Matrix\n"
     ]
    },
    {
     "data": {
      "text/plain": [
       "array([[9465,    5],\n",
       "       [ 518,   12]])"
      ]
     },
     "metadata": {},
     "output_type": "display_data"
    },
    {
     "name": "stdout",
     "output_type": "stream",
     "text": [
      "\n",
      "\n",
      " Program Executed in 0.48\n",
      "\n",
      "\n",
      "\n",
      "\n",
      " Percentage accuracy for Random Forest Classifier\n",
      "98.72%\n",
      "\n",
      " Cross-Validation Score\n",
      "[0.9465 0.9465 0.9465 0.946  0.9445]\n",
      "\n",
      " Confusion Matrix\n"
     ]
    },
    {
     "data": {
      "text/plain": [
       "array([[9470,    0],\n",
       "       [ 128,  402]])"
      ]
     },
     "metadata": {},
     "output_type": "display_data"
    },
    {
     "name": "stdout",
     "output_type": "stream",
     "text": [
      "\n",
      "\n",
      " Program Executed in 3.26\n",
      "\n",
      "\n",
      "\n",
      "\n",
      " Percentage accuracy for Logistic Regression\n",
      "94.69999999999999%\n",
      "\n",
      " Cross-Validation Score\n",
      "[0.5045 0.947  0.947  0.947  0.947 ]\n",
      "\n",
      " Confusion Matrix\n"
     ]
    },
    {
     "data": {
      "text/plain": [
       "array([[9470,    0],\n",
       "       [ 530,    0]])"
      ]
     },
     "metadata": {},
     "output_type": "display_data"
    },
    {
     "name": "stdout",
     "output_type": "stream",
     "text": [
      "\n",
      "\n",
      " Program Executed in 0.78\n",
      "\n",
      "\n",
      "\n",
      "\n",
      " Percentage accuracy for Lasso Logistic Regression\n",
      "94.69999999999999%\n",
      "\n",
      " Cross-Validation Score\n",
      "[0.947 0.947 0.947 0.947 0.947]\n",
      "\n",
      " Confusion Matrix\n"
     ]
    },
    {
     "data": {
      "text/plain": [
       "array([[9470,    0],\n",
       "       [ 530,    0]])"
      ]
     },
     "metadata": {},
     "output_type": "display_data"
    },
    {
     "name": "stdout",
     "output_type": "stream",
     "text": [
      "\n",
      "\n",
      " Program Executed in 88.36\n",
      "\n",
      "\n",
      "\n",
      "\n",
      " Percentage accuracy for Ridge Logistic Regression\n",
      "94.69999999999999%\n",
      "\n",
      " Cross-Validation Score\n",
      "[0.5045 0.947  0.947  0.947  0.947 ]\n",
      "\n",
      " Confusion Matrix\n"
     ]
    },
    {
     "data": {
      "text/plain": [
       "array([[9470,    0],\n",
       "       [ 530,    0]])"
      ]
     },
     "metadata": {},
     "output_type": "display_data"
    },
    {
     "name": "stdout",
     "output_type": "stream",
     "text": [
      "\n",
      "\n",
      " Program Executed in 0.82\n",
      "\n",
      "\n",
      "\n",
      "\n",
      " Percentage accuracy for SVM\n",
      "100.0%\n",
      "\n",
      " Cross-Validation Score\n",
      "[0.947 0.947 0.947 0.947 0.947]\n",
      "\n",
      " Confusion Matrix\n"
     ]
    },
    {
     "data": {
      "text/plain": [
       "array([[9470,    0],\n",
       "       [   0,  530]])"
      ]
     },
     "metadata": {},
     "output_type": "display_data"
    },
    {
     "name": "stdout",
     "output_type": "stream",
     "text": [
      "\n",
      "\n",
      " Program Executed in 196.12\n",
      "\n",
      "\n",
      "\n",
      "\n",
      " Percentage accuracy for Gradient Boosting Classifier\n",
      "94.89999999999999%\n",
      "\n",
      " Cross-Validation Score\n",
      "[0.945  0.9465 0.946  0.9455 0.9455]\n",
      "\n",
      " Confusion Matrix\n"
     ]
    },
    {
     "data": {
      "text/plain": [
       "array([[9470,    0],\n",
       "       [ 510,   20]])"
      ]
     },
     "metadata": {},
     "output_type": "display_data"
    },
    {
     "name": "stdout",
     "output_type": "stream",
     "text": [
      "\n",
      "\n",
      " Program Executed in 8.57\n"
     ]
    }
   ],
   "source": [
    "#Reestablish X\n",
    "X = Credit_pca\n",
    "\n",
    "#Rerun default models using PCA components\n",
    "\n",
    "#Bernoulli Naive Bayes\n",
    "NB_Model('Bernoulli')\n",
    "print('\\n\\n')\n",
    "\n",
    "#K-Nearest Neighbors\n",
    "KNN_Model(5, 'uniform')\n",
    "print('\\n\\n')\n",
    "\n",
    "#Random Forest\n",
    "RFC_Model(10, 'gini', 'auto', None)\n",
    "print('\\n\\n')\n",
    "\n",
    "#Plain Logistic Regression\n",
    "Logistic_Reg_Model('l2', 1e9)\n",
    "print('\\n\\n')\n",
    "\n",
    "#Lasso Logistic Regression\n",
    "Logistic_Reg_Model('l1', 1.0)\n",
    "print('\\n\\n')\n",
    "\n",
    "#Ridge Logistic Regression\n",
    "Logistic_Reg_Model('l2', 1.0)\n",
    "print('\\n\\n')\n",
    "\n",
    "#Support Vector Classifier\n",
    "SVC_Model(1.0, 'rbf')\n",
    "print('\\n\\n')\n",
    "\n",
    "#Gradient boost classifier\n",
    "Gradient_Boost_Model(100, 3, 'deviance', 1.0)"
   ]
  },
  {
   "cell_type": "markdown",
   "metadata": {},
   "source": [
    "## Run PCA-Based Model with Tuned Parameters"
   ]
  },
  {
   "cell_type": "code",
   "execution_count": null,
   "metadata": {},
   "outputs": [
    {
     "name": "stdout",
     "output_type": "stream",
     "text": [
      "\n",
      " Percentage accuracy for Gaussian Naive Bayes\n",
      "94.69999999999999%\n",
      "\n",
      " Cross-Validation Score\n",
      "[0.946 0.947 0.947 0.945 0.947]\n",
      "\n",
      " Confusion Matrix\n"
     ]
    },
    {
     "data": {
      "text/plain": [
       "array([[9470,    0],\n",
       "       [ 530,    0]])"
      ]
     },
     "metadata": {},
     "output_type": "display_data"
    },
    {
     "name": "stdout",
     "output_type": "stream",
     "text": [
      "\n",
      "\n",
      " Program Executed in 0.15\n",
      "\n",
      "\n",
      "\n",
      "\n",
      " Percentage accuracy for K Nearest Neighbors Classifier\n",
      "100.0%\n",
      "\n",
      " Cross-Validation Score\n",
      "[0.947 0.947 0.947 0.947 0.947]\n",
      "\n",
      " Confusion Matrix\n"
     ]
    },
    {
     "data": {
      "text/plain": [
       "array([[9470,    0],\n",
       "       [   0,  530]])"
      ]
     },
     "metadata": {},
     "output_type": "display_data"
    },
    {
     "name": "stdout",
     "output_type": "stream",
     "text": [
      "\n",
      "\n",
      " Program Executed in 1.91\n",
      "\n",
      "\n",
      "\n",
      "\n",
      " Percentage accuracy for Random Forest Classifier\n",
      "99.87%\n",
      "\n",
      " Cross-Validation Score\n",
      "[0.9465 0.947  0.947  0.947  0.9465]\n",
      "\n",
      " Confusion Matrix\n"
     ]
    },
    {
     "data": {
      "text/plain": [
       "array([[9470,    0],\n",
       "       [  13,  517]])"
      ]
     },
     "metadata": {},
     "output_type": "display_data"
    },
    {
     "name": "stdout",
     "output_type": "stream",
     "text": [
      "\n",
      "\n",
      " Program Executed in 25.37\n",
      "\n",
      "\n",
      "\n",
      "\n",
      " Percentage accuracy for Lasso Logistic Regression\n",
      "94.69999999999999%\n",
      "\n",
      " Cross-Validation Score\n",
      "[0.947 0.947 0.947 0.947 0.947]\n",
      "\n",
      " Confusion Matrix\n"
     ]
    },
    {
     "data": {
      "text/plain": [
       "array([[9470,    0],\n",
       "       [ 530,    0]])"
      ]
     },
     "metadata": {},
     "output_type": "display_data"
    },
    {
     "name": "stdout",
     "output_type": "stream",
     "text": [
      "\n",
      "\n",
      " Program Executed in 92.74\n",
      "\n",
      "\n",
      "\n",
      "\n",
      " Percentage accuracy for Ridge Logistic Regression\n",
      "94.69999999999999%\n",
      "\n",
      " Cross-Validation Score\n",
      "[0.5045 0.947  0.947  0.6745 0.4685]\n",
      "\n",
      " Confusion Matrix\n"
     ]
    },
    {
     "data": {
      "text/plain": [
       "array([[9470,    0],\n",
       "       [ 530,    0]])"
      ]
     },
     "metadata": {},
     "output_type": "display_data"
    },
    {
     "name": "stdout",
     "output_type": "stream",
     "text": [
      "\n",
      "\n",
      " Program Executed in 0.92\n",
      "\n",
      "\n",
      "\n"
     ]
    }
   ],
   "source": [
    "#Reestablish X\n",
    "X = Credit_pca\n",
    "\n",
    "#Run Gaussian instead of Bernoulli\n",
    "NB_Model('Gaussian')\n",
    "print('\\n\\n')\n",
    "\n",
    "#K-Nearest Neighbors (use 100 for K instead of 5 and 'distance' for weight)\n",
    "KNN_Model(100, 'distance')\n",
    "print('\\n\\n')\n",
    "\n",
    "#Random Forest (use 50 trees, 'entropy' as the criterion)\n",
    "RFC_Model(50, 'entropy', 'auto', None)\n",
    "print('\\n\\n')\n",
    "\n",
    "#Lasso Logistic Regression (change alpha to 0.5)\n",
    "Logistic_Reg_Model('l1', 0.2)\n",
    "print('\\n\\n')\n",
    "\n",
    "#Ridge Logistic Regression (change alpha to 5000)\n",
    "Logistic_Reg_Model('l2', 5000)\n",
    "print('\\n\\n')\n"
   ]
  },
  {
   "cell_type": "code",
   "execution_count": null,
   "metadata": {},
   "outputs": [],
   "source": [
    "#Support Vector Classifier (change kernel to 'linear')\n",
    "SVC_Model(1.0, 'linear')\n",
    "print('\\n\\n')\n"
   ]
  },
  {
   "cell_type": "code",
   "execution_count": 11,
   "metadata": {},
   "outputs": [
    {
     "name": "stdout",
     "output_type": "stream",
     "text": [
      "\n",
      " Percentage accuracy for Gradient Boosting Classifier\n",
      "100.0%\n",
      "\n",
      " Cross-Validation Score\n",
      "[0.99004975 0.96       0.975      0.96       0.99497487]\n",
      "\n",
      " Confusion Matrix\n"
     ]
    },
    {
     "data": {
      "text/plain": [
       "array([[934,   0],\n",
       "       [  0,  66]])"
      ]
     },
     "metadata": {},
     "output_type": "display_data"
    },
    {
     "name": "stdout",
     "output_type": "stream",
     "text": [
      "\n",
      "\n",
      " Program Executed in 44.85\n"
     ]
    }
   ],
   "source": [
    "#Gradient boost classifier (more estimators and subsampling)\n",
    "Gradient_Boost_Model(300, 3, 'deviance', 0.8)"
   ]
  },
  {
   "cell_type": "markdown",
   "metadata": {},
   "source": [
    "## Conduct PCA to Reduce Features, then Feed Those Components Back into Our Models"
   ]
  },
  {
   "cell_type": "code",
   "execution_count": 6,
   "metadata": {},
   "outputs": [
    {
     "data": {
      "text/plain": [
       "Text(0,0.5,'Cumulative Explained Variance')"
      ]
     },
     "execution_count": 6,
     "metadata": {},
     "output_type": "execute_result"
    },
    {
     "data": {
      "image/png": "[encoded data removed]",
      "text/plain": [
       "<Figure size 432x288 with 1 Axes>"
      ]
     },
     "metadata": {},
     "output_type": "display_data"
    }
   ],
   "source": [
    "#Determining proper number of components\n",
    "\n",
    "from sklearn.decomposition import PCA \n",
    "\n",
    "pca = PCA().fit(X)\n",
    "plt.plot(np.cumsum(pca.explained_variance_ratio_))\n",
    "plt.xlabel('Number of Components')\n",
    "plt.xticks(np.arange(0,100, 5), rotation = 'vertical')\n",
    "plt.ylabel('Cumulative Explained Variance')"
   ]
  },
  {
   "cell_type": "code",
   "execution_count": 9,
   "metadata": {},
   "outputs": [
    {
     "name": "stdout",
     "output_type": "stream",
     "text": [
      "The percentage of total variance in the dataset explained by each component from Sklearn PCA.\n",
      " [9.99874693e-01 1.15903780e-04 8.65483409e-06 4.35848932e-07\n",
      " 1.97402904e-07]\n"
     ]
    }
   ],
   "source": [
    "sklearn_pca = PCA(n_components=5)\n",
    "credit_pca = sklearn_pca.fit_transform(X)\n",
    "\n",
    "print(\n",
    "    'The percentage of total variance in the dataset explained by each',\n",
    "    'component from Sklearn PCA.\\n',\n",
    "    sklearn_pca.explained_variance_ratio_)"
   ]
  },
  {
   "cell_type": "code",
   "execution_count": 10,
   "metadata": {},
   "outputs": [
    {
     "data": {
      "text/plain": [
       "(1000, 5)"
      ]
     },
     "execution_count": 10,
     "metadata": {},
     "output_type": "execute_result"
    }
   ],
   "source": [
    "#Confirm dimensionality reduction\n",
    "credit_pca.shape"
   ]
  },
  {
   "cell_type": "markdown",
   "metadata": {},
   "source": [
    "## Handle Class Imbalance by Taking a 50/50 DataFrame"
   ]
  },
  {
   "cell_type": "code",
   "execution_count": 14,
   "metadata": {},
   "outputs": [
    {
     "name": "stdout",
     "output_type": "stream",
     "text": [
      "58\n"
     ]
    }
   ],
   "source": [
    "#Create dataframe of only Default observations\n",
    "default_true = Credit[Credit['default_ind'] == 1]\n",
    "\n",
    "#Confirm number of default observations\n",
    "print(len(default_true))"
   ]
  },
  {
   "cell_type": "code",
   "execution_count": 15,
   "metadata": {},
   "outputs": [
    {
     "name": "stdout",
     "output_type": "stream",
     "text": [
      "58\n"
     ]
    }
   ],
   "source": [
    "#Create dataframe of only non-default observations, then take a sample\n",
    "default_not_true = Credit[Credit['default_ind'] == 0]\n",
    "default_not_true = default_not_true.sample(n = 58)\n",
    "\n",
    "#Confirm number of non-default observations\n",
    "print(len(default_not_true))"
   ]
  },
  {
   "cell_type": "code",
   "execution_count": 16,
   "metadata": {},
   "outputs": [],
   "source": [
    "#Combine our two dataframes (default and non-default) into one\n",
    "credit_revised = default_true.append(default_not_true)"
   ]
  },
  {
   "cell_type": "code",
   "execution_count": 17,
   "metadata": {},
   "outputs": [
    {
     "data": {
      "text/html": [
       "<div>\n",
       "<style scoped>\n",
       "    .dataframe tbody tr th:only-of-type {\n",
       "        vertical-align: middle;\n",
       "    }\n",
       "\n",
       "    .dataframe tbody tr th {\n",
       "        vertical-align: top;\n",
       "    }\n",
       "\n",
       "    .dataframe thead th {\n",
       "        text-align: right;\n",
       "    }\n",
       "</style>\n",
       "<table border=\"1\" class=\"dataframe\">\n",
       "  <thead>\n",
       "    <tr style=\"text-align: right;\">\n",
       "      <th></th>\n",
       "      <th>id</th>\n",
       "      <th>member_id</th>\n",
       "      <th>loan_amnt</th>\n",
       "      <th>funded_amnt</th>\n",
       "      <th>funded_amnt_inv</th>\n",
       "      <th>term</th>\n",
       "      <th>int_rate</th>\n",
       "      <th>installment</th>\n",
       "      <th>grade</th>\n",
       "      <th>sub_grade</th>\n",
       "      <th>...</th>\n",
       "      <th>total_rec_prncp</th>\n",
       "      <th>total_rec_int</th>\n",
       "      <th>total_rec_late_fee</th>\n",
       "      <th>recoveries</th>\n",
       "      <th>collection_recovery_fee</th>\n",
       "      <th>last_pymnt_amnt</th>\n",
       "      <th>policy_code</th>\n",
       "      <th>application_type</th>\n",
       "      <th>acc_now_delinq</th>\n",
       "      <th>default_ind</th>\n",
       "    </tr>\n",
       "  </thead>\n",
       "  <tbody>\n",
       "    <tr>\n",
       "      <th>299611</th>\n",
       "      <td>27170012</td>\n",
       "      <td>29683030</td>\n",
       "      <td>14000</td>\n",
       "      <td>14000</td>\n",
       "      <td>14000.0</td>\n",
       "      <td>36 months</td>\n",
       "      <td>20.20</td>\n",
       "      <td>521.72</td>\n",
       "      <td>E</td>\n",
       "      <td>E3</td>\n",
       "      <td>...</td>\n",
       "      <td>1173.43</td>\n",
       "      <td>913.45</td>\n",
       "      <td>0.0</td>\n",
       "      <td>2702.56</td>\n",
       "      <td>486.4608</td>\n",
       "      <td>521.72</td>\n",
       "      <td>1</td>\n",
       "      <td>INDIVIDUAL</td>\n",
       "      <td>0</td>\n",
       "      <td>1</td>\n",
       "    </tr>\n",
       "    <tr>\n",
       "      <th>224168</th>\n",
       "      <td>1074266</td>\n",
       "      <td>1310160</td>\n",
       "      <td>16000</td>\n",
       "      <td>10225</td>\n",
       "      <td>10225.0</td>\n",
       "      <td>60 months</td>\n",
       "      <td>12.69</td>\n",
       "      <td>231.04</td>\n",
       "      <td>B</td>\n",
       "      <td>B5</td>\n",
       "      <td>...</td>\n",
       "      <td>2413.91</td>\n",
       "      <td>1729.33</td>\n",
       "      <td>0.0</td>\n",
       "      <td>14.36</td>\n",
       "      <td>0.0000</td>\n",
       "      <td>231.04</td>\n",
       "      <td>1</td>\n",
       "      <td>INDIVIDUAL</td>\n",
       "      <td>0</td>\n",
       "      <td>1</td>\n",
       "    </tr>\n",
       "    <tr>\n",
       "      <th>384396</th>\n",
       "      <td>14758904</td>\n",
       "      <td>16831348</td>\n",
       "      <td>24000</td>\n",
       "      <td>24000</td>\n",
       "      <td>24000.0</td>\n",
       "      <td>36 months</td>\n",
       "      <td>14.16</td>\n",
       "      <td>822.13</td>\n",
       "      <td>C</td>\n",
       "      <td>C2</td>\n",
       "      <td>...</td>\n",
       "      <td>3330.48</td>\n",
       "      <td>1602.30</td>\n",
       "      <td>0.0</td>\n",
       "      <td>0.00</td>\n",
       "      <td>0.0000</td>\n",
       "      <td>822.13</td>\n",
       "      <td>1</td>\n",
       "      <td>INDIVIDUAL</td>\n",
       "      <td>0</td>\n",
       "      <td>1</td>\n",
       "    </tr>\n",
       "    <tr>\n",
       "      <th>434688</th>\n",
       "      <td>10726769</td>\n",
       "      <td>12618849</td>\n",
       "      <td>16000</td>\n",
       "      <td>16000</td>\n",
       "      <td>16000.0</td>\n",
       "      <td>60 months</td>\n",
       "      <td>15.61</td>\n",
       "      <td>385.79</td>\n",
       "      <td>C</td>\n",
       "      <td>C4</td>\n",
       "      <td>...</td>\n",
       "      <td>3355.87</td>\n",
       "      <td>3202.56</td>\n",
       "      <td>0.0</td>\n",
       "      <td>0.00</td>\n",
       "      <td>0.0000</td>\n",
       "      <td>385.79</td>\n",
       "      <td>1</td>\n",
       "      <td>INDIVIDUAL</td>\n",
       "      <td>0</td>\n",
       "      <td>1</td>\n",
       "    </tr>\n",
       "    <tr>\n",
       "      <th>58807</th>\n",
       "      <td>8926276</td>\n",
       "      <td>10718317</td>\n",
       "      <td>15000</td>\n",
       "      <td>15000</td>\n",
       "      <td>15000.0</td>\n",
       "      <td>36 months</td>\n",
       "      <td>15.61</td>\n",
       "      <td>524.48</td>\n",
       "      <td>C</td>\n",
       "      <td>C3</td>\n",
       "      <td>...</td>\n",
       "      <td>7894.57</td>\n",
       "      <td>3119.09</td>\n",
       "      <td>0.0</td>\n",
       "      <td>0.00</td>\n",
       "      <td>0.0000</td>\n",
       "      <td>524.48</td>\n",
       "      <td>1</td>\n",
       "      <td>INDIVIDUAL</td>\n",
       "      <td>0</td>\n",
       "      <td>1</td>\n",
       "    </tr>\n",
       "  </tbody>\n",
       "</table>\n",
       "<p>5 rows × 41 columns</p>\n",
       "</div>"
      ],
      "text/plain": [
       "              id  member_id  loan_amnt  funded_amnt  funded_amnt_inv  \\\n",
       "299611  27170012   29683030      14000        14000          14000.0   \n",
       "224168   1074266    1310160      16000        10225          10225.0   \n",
       "384396  14758904   16831348      24000        24000          24000.0   \n",
       "434688  10726769   12618849      16000        16000          16000.0   \n",
       "58807    8926276   10718317      15000        15000          15000.0   \n",
       "\n",
       "              term  int_rate  installment grade sub_grade     ...       \\\n",
       "299611   36 months     20.20       521.72     E        E3     ...        \n",
       "224168   60 months     12.69       231.04     B        B5     ...        \n",
       "384396   36 months     14.16       822.13     C        C2     ...        \n",
       "434688   60 months     15.61       385.79     C        C4     ...        \n",
       "58807    36 months     15.61       524.48     C        C3     ...        \n",
       "\n",
       "       total_rec_prncp  total_rec_int total_rec_late_fee recoveries  \\\n",
       "299611         1173.43         913.45                0.0    2702.56   \n",
       "224168         2413.91        1729.33                0.0      14.36   \n",
       "384396         3330.48        1602.30                0.0       0.00   \n",
       "434688         3355.87        3202.56                0.0       0.00   \n",
       "58807          7894.57        3119.09                0.0       0.00   \n",
       "\n",
       "       collection_recovery_fee last_pymnt_amnt policy_code application_type  \\\n",
       "299611                486.4608          521.72           1       INDIVIDUAL   \n",
       "224168                  0.0000          231.04           1       INDIVIDUAL   \n",
       "384396                  0.0000          822.13           1       INDIVIDUAL   \n",
       "434688                  0.0000          385.79           1       INDIVIDUAL   \n",
       "58807                   0.0000          524.48           1       INDIVIDUAL   \n",
       "\n",
       "        acc_now_delinq  default_ind  \n",
       "299611               0            1  \n",
       "224168               0            1  \n",
       "384396               0            1  \n",
       "434688               0            1  \n",
       "58807                0            1  \n",
       "\n",
       "[5 rows x 41 columns]"
      ]
     },
     "execution_count": 17,
     "metadata": {},
     "output_type": "execute_result"
    }
   ],
   "source": [
    "#Confirm this worked\n",
    "credit_revised.head(5)"
   ]
  },
  {
   "cell_type": "code",
   "execution_count": 17,
   "metadata": {},
   "outputs": [
    {
     "name": "stdout",
     "output_type": "stream",
     "text": [
      "<class 'pandas.core.frame.DataFrame'>\n",
      "Int64Index: 116 entries, 197076 to 524412\n",
      "Data columns (total 41 columns):\n",
      "id                         116 non-null int64\n",
      "member_id                  116 non-null int64\n",
      "loan_amnt                  116 non-null int64\n",
      "funded_amnt                116 non-null int64\n",
      "funded_amnt_inv            116 non-null float64\n",
      "term                       116 non-null object\n",
      "int_rate                   116 non-null float64\n",
      "installment                116 non-null float64\n",
      "grade                      116 non-null object\n",
      "sub_grade                  116 non-null object\n",
      "home_ownership             116 non-null object\n",
      "annual_inc                 116 non-null float64\n",
      "verification_status        116 non-null object\n",
      "issue_d                    116 non-null object\n",
      "pymnt_plan                 116 non-null object\n",
      "purpose                    116 non-null object\n",
      "zip_code                   116 non-null object\n",
      "addr_state                 116 non-null object\n",
      "dti                        116 non-null float64\n",
      "delinq_2yrs                116 non-null int64\n",
      "earliest_cr_line           116 non-null object\n",
      "inq_last_6mths             116 non-null int64\n",
      "open_acc                   116 non-null int64\n",
      "pub_rec                    116 non-null int64\n",
      "revol_bal                  116 non-null int64\n",
      "total_acc                  116 non-null int64\n",
      "initial_list_status        116 non-null object\n",
      "out_prncp                  116 non-null float64\n",
      "out_prncp_inv              116 non-null float64\n",
      "total_pymnt                116 non-null float64\n",
      "total_pymnt_inv            116 non-null float64\n",
      "total_rec_prncp            116 non-null float64\n",
      "total_rec_int              116 non-null float64\n",
      "total_rec_late_fee         116 non-null float64\n",
      "recoveries                 116 non-null float64\n",
      "collection_recovery_fee    116 non-null float64\n",
      "last_pymnt_amnt            116 non-null float64\n",
      "policy_code                116 non-null int64\n",
      "application_type           116 non-null object\n",
      "acc_now_delinq             116 non-null int64\n",
      "default_ind                116 non-null int64\n",
      "dtypes: float64(15), int64(13), object(13)\n",
      "memory usage: 38.1+ KB\n"
     ]
    }
   ],
   "source": [
    "credit_revised.info()"
   ]
  },
  {
   "cell_type": "code",
   "execution_count": 27,
   "metadata": {},
   "outputs": [
    {
     "name": "stdout",
     "output_type": "stream",
     "text": [
      "\n",
      " Percentage accuracy for Bernoulli Naive Bayes\n",
      "94.0677966101695%\n",
      "\n",
      " Cross-Validation Score\n",
      "[0.79166667 1.         0.79166667 0.875      0.81818182]\n",
      "\n",
      " Confusion Matrix\n"
     ]
    },
    {
     "data": {
      "text/plain": [
       "array([[58,  1],\n",
       "       [ 6, 53]])"
      ]
     },
     "metadata": {},
     "output_type": "display_data"
    },
    {
     "name": "stdout",
     "output_type": "stream",
     "text": [
      "\n",
      "\n",
      " Program Executed in 0.06\n",
      "\n",
      "\n",
      "\n",
      "\n",
      " Percentage accuracy for K Nearest Neighbors Classifier\n",
      "76.27118644067797%\n",
      "\n",
      " Cross-Validation Score\n",
      "[0.54166667 0.66666667 0.66666667 0.66666667 0.72727273]\n",
      "\n",
      " Confusion Matrix\n"
     ]
    },
    {
     "data": {
      "text/plain": [
       "array([[41, 18],\n",
       "       [10, 49]])"
      ]
     },
     "metadata": {},
     "output_type": "display_data"
    },
    {
     "name": "stdout",
     "output_type": "stream",
     "text": [
      "\n",
      "\n",
      " Program Executed in 0.09\n",
      "\n",
      "\n",
      "\n",
      "\n",
      " Percentage accuracy for Random Forest Classifier\n",
      "99.15254237288136%\n",
      "\n",
      " Cross-Validation Score\n",
      "[0.875      0.875      0.875      0.875      0.77272727]\n",
      "\n",
      " Confusion Matrix\n"
     ]
    },
    {
     "data": {
      "text/plain": [
       "array([[59,  0],\n",
       "       [ 1, 58]])"
      ]
     },
     "metadata": {},
     "output_type": "display_data"
    },
    {
     "name": "stdout",
     "output_type": "stream",
     "text": [
      "\n",
      "\n",
      " Program Executed in 0.32\n",
      "\n",
      "\n",
      "\n",
      "\n",
      " Percentage accuracy for Logistic Regression\n",
      "95.76271186440678%\n",
      "\n",
      " Cross-Validation Score\n",
      "[0.95833333 1.         0.95833333 0.91666667 0.90909091]\n",
      "\n",
      " Confusion Matrix\n"
     ]
    },
    {
     "data": {
      "text/plain": [
       "array([[58,  1],\n",
       "       [ 4, 55]])"
      ]
     },
     "metadata": {},
     "output_type": "display_data"
    },
    {
     "name": "stdout",
     "output_type": "stream",
     "text": [
      "\n",
      "\n",
      " Program Executed in 0.09\n",
      "\n",
      "\n",
      "\n",
      "\n",
      " Percentage accuracy for Lasso Logistic Regression\n",
      "100.0%\n",
      "\n",
      " Cross-Validation Score\n",
      "[0.91666667 1.         0.875      0.91666667 0.81818182]\n",
      "\n",
      " Confusion Matrix\n"
     ]
    },
    {
     "data": {
      "text/plain": [
       "array([[59,  0],\n",
       "       [ 0, 59]])"
      ]
     },
     "metadata": {},
     "output_type": "display_data"
    },
    {
     "name": "stdout",
     "output_type": "stream",
     "text": [
      "\n",
      "\n",
      " Program Executed in 1.87\n",
      "\n",
      "\n",
      "\n",
      "\n",
      " Percentage accuracy for Ridge Logistic Regression\n",
      "95.76271186440678%\n",
      "\n",
      " Cross-Validation Score\n",
      "[0.95833333 1.         1.         0.91666667 0.90909091]\n",
      "\n",
      " Confusion Matrix\n"
     ]
    },
    {
     "data": {
      "text/plain": [
       "array([[58,  1],\n",
       "       [ 4, 55]])"
      ]
     },
     "metadata": {},
     "output_type": "display_data"
    },
    {
     "name": "stdout",
     "output_type": "stream",
     "text": [
      "\n",
      "\n",
      " Program Executed in 0.16\n",
      "\n",
      "\n",
      "\n"
     ]
    }
   ],
   "source": [
    "#Reestablish X and Y\n",
    "X = credit_revised.drop(['default_ind'], 1)\n",
    "X = pd.get_dummies(X)\n",
    "Y = credit_revised.default_ind\n",
    "\n",
    "#Run our default models\n",
    "#Bernoulli Naive Bayes\n",
    "NB_Model('Bernoulli')\n",
    "print('\\n\\n')\n",
    "\n",
    "#K-Nearest Neighbors\n",
    "KNN_Model(5, 'uniform')\n",
    "print('\\n\\n')\n",
    "\n",
    "#Random Forest\n",
    "RFC_Model(10, 'gini', 'auto', None)\n",
    "print('\\n\\n')\n",
    "\n",
    "#Plain Logistic Regression\n",
    "Logistic_Reg_Model('l2', 1e9)\n",
    "print('\\n\\n')\n",
    "\n",
    "#Lasso Logistic Regression\n",
    "Logistic_Reg_Model('l1', 1.0)\n",
    "print('\\n\\n')\n",
    "\n",
    "#Ridge Logistic Regression\n",
    "Logistic_Reg_Model('l2', 1.0)\n",
    "print('\\n\\n')\n"
   ]
  },
  {
   "cell_type": "code",
   "execution_count": null,
   "metadata": {},
   "outputs": [],
   "source": [
    "#Support Vector Classifier\n",
    "SVC_Model(1.0, 'rbf')\n",
    "print('\\n\\n')\n"
   ]
  },
  {
   "cell_type": "code",
   "execution_count": 28,
   "metadata": {},
   "outputs": [
    {
     "name": "stdout",
     "output_type": "stream",
     "text": [
      "\n",
      " Percentage accuracy for Gradient Boosting Classifier\n",
      "100.0%\n",
      "\n",
      " Cross-Validation Score\n",
      "[0.91666667 1.         0.875      0.91666667 0.81818182]\n",
      "\n",
      " Confusion Matrix\n"
     ]
    },
    {
     "data": {
      "text/plain": [
       "array([[59,  0],\n",
       "       [ 0, 59]])"
      ]
     },
     "metadata": {},
     "output_type": "display_data"
    },
    {
     "name": "stdout",
     "output_type": "stream",
     "text": [
      "\n",
      "\n",
      " Program Executed in 1.59\n"
     ]
    }
   ],
   "source": [
    "\n",
    "#Gradient boost classifier\n",
    "Gradient_Boost_Model(100, 3, 'deviance', 1.0)"
   ]
  },
  {
   "cell_type": "markdown",
   "metadata": {},
   "source": [
    "## Now we have some improvement! Re-run models with tuned parameters to see if we can improve even more."
   ]
  },
  {
   "cell_type": "code",
   "execution_count": 18,
   "metadata": {},
   "outputs": [
    {
     "name": "stdout",
     "output_type": "stream",
     "text": [
      "\n",
      " Percentage accuracy for Gaussian Naive Bayes\n",
      "90.3%\n",
      "\n",
      " Cross-Validation Score\n",
      "[0.90547264 0.90049751 0.885      0.89949749 0.90452261]\n",
      "\n",
      " Confusion Matrix\n"
     ]
    },
    {
     "data": {
      "text/plain": [
       "array([[849,  93],\n",
       "       [  4,  54]])"
      ]
     },
     "metadata": {},
     "output_type": "display_data"
    },
    {
     "name": "stdout",
     "output_type": "stream",
     "text": [
      "\n",
      "\n",
      " Program Executed in 0.68\n",
      "\n",
      "\n",
      "\n",
      "\n",
      " Percentage accuracy for K Nearest Neighbors Classifier\n",
      "100.0%\n",
      "\n",
      " Cross-Validation Score\n",
      "[0.93532338 0.93532338 0.94       0.94472362 0.94472362]\n",
      "\n",
      " Confusion Matrix\n"
     ]
    },
    {
     "data": {
      "text/plain": [
       "array([[942,   0],\n",
       "       [  0,  58]])"
      ]
     },
     "metadata": {},
     "output_type": "display_data"
    },
    {
     "name": "stdout",
     "output_type": "stream",
     "text": [
      "\n",
      "\n",
      " Program Executed in 2.35\n",
      "\n",
      "\n",
      "\n",
      "\n",
      " Percentage accuracy for Random Forest Classifier\n",
      "100.0%\n",
      "\n",
      " Cross-Validation Score\n",
      "[0.960199   0.95522388 0.97       0.96984925 0.9798995 ]\n",
      "\n",
      " Confusion Matrix\n"
     ]
    },
    {
     "data": {
      "text/plain": [
       "array([[942,   0],\n",
       "       [  0,  58]])"
      ]
     },
     "metadata": {},
     "output_type": "display_data"
    },
    {
     "name": "stdout",
     "output_type": "stream",
     "text": [
      "\n",
      "\n",
      " Program Executed in 2.35\n",
      "\n",
      "\n",
      "\n",
      "\n",
      " Percentage accuracy for Lasso Logistic Regression\n",
      "99.4%\n",
      "\n",
      " Cross-Validation Score\n",
      "[0.99502488 0.98507463 0.985      1.         0.99497487]\n",
      "\n",
      " Confusion Matrix\n"
     ]
    },
    {
     "data": {
      "text/plain": [
       "array([[941,   1],\n",
       "       [  5,  53]])"
      ]
     },
     "metadata": {},
     "output_type": "display_data"
    },
    {
     "name": "stdout",
     "output_type": "stream",
     "text": [
      "\n",
      "\n",
      " Program Executed in 2.49\n",
      "\n",
      "\n",
      "\n",
      "\n",
      " Percentage accuracy for Ridge Logistic Regression\n",
      "99.1%\n",
      "\n",
      " Cross-Validation Score\n",
      "[0.99502488 0.9800995  0.98       1.         0.98994975]\n",
      "\n",
      " Confusion Matrix\n"
     ]
    },
    {
     "data": {
      "text/plain": [
       "array([[942,   0],\n",
       "       [  9,  49]])"
      ]
     },
     "metadata": {},
     "output_type": "display_data"
    },
    {
     "name": "stdout",
     "output_type": "stream",
     "text": [
      "\n",
      "\n",
      " Program Executed in 0.57\n",
      "\n",
      "\n",
      "\n"
     ]
    }
   ],
   "source": [
    "#Run Gaussian instead of Bernoulli\n",
    "NB_Model('Gaussian')\n",
    "print('\\n\\n')\n",
    "\n",
    "#K-Nearest Neighbors (use 25 for K instead of 5 and 'distance' for weight)\n",
    "KNN_Model(50, 'distance')\n",
    "print('\\n\\n')\n",
    "\n",
    "#Random Forest (use 50 trees, 'entropy' as the criterion)\n",
    "RFC_Model(50, 'entropy', 'auto', None)\n",
    "print('\\n\\n')\n",
    "\n",
    "#Lasso Logistic Regression (change alpha to 0.5)\n",
    "Logistic_Reg_Model('l1', 0.5)\n",
    "print('\\n\\n')\n",
    "\n",
    "#Ridge Logistic Regression (change alpha to 100)\n",
    "Logistic_Reg_Model('l2', 100)\n",
    "print('\\n\\n')"
   ]
  },
  {
   "cell_type": "code",
   "execution_count": null,
   "metadata": {},
   "outputs": [],
   "source": [
    "#Support Vector Classifier (change kernel to 'linear')\n",
    "SVC_Model(1.0, 'linear')\n",
    "print('\\n\\n')"
   ]
  },
  {
   "cell_type": "code",
   "execution_count": 21,
   "metadata": {},
   "outputs": [
    {
     "name": "stdout",
     "output_type": "stream",
     "text": [
      "\n",
      " Percentage accuracy for Gradient Boosting Classifier\n",
      "100.0%\n",
      "\n",
      " Cross-Validation Score\n",
      "[0.96517413 0.960199   0.99       0.97487437 0.99497487]\n",
      "\n",
      " Confusion Matrix\n"
     ]
    },
    {
     "data": {
      "text/plain": [
       "array([[942,   0],\n",
       "       [  0,  58]])"
      ]
     },
     "metadata": {},
     "output_type": "display_data"
    },
    {
     "name": "stdout",
     "output_type": "stream",
     "text": [
      "\n",
      "\n",
      " Program Executed in 37.24\n"
     ]
    }
   ],
   "source": [
    "# Gradient boost classifier (more estimators, more depth and subsampling)\n",
    "Gradient_Boost_Model(200, 4, 'deviance', 0.8)"
   ]
  },
  {
   "cell_type": "code",
   "execution_count": 22,
   "metadata": {},
   "outputs": [
    {
     "data": {
      "text/html": [
       "<div>\n",
       "<style scoped>\n",
       "    .dataframe tbody tr th:only-of-type {\n",
       "        vertical-align: middle;\n",
       "    }\n",
       "\n",
       "    .dataframe tbody tr th {\n",
       "        vertical-align: top;\n",
       "    }\n",
       "\n",
       "    .dataframe thead th {\n",
       "        text-align: right;\n",
       "    }\n",
       "</style>\n",
       "<table border=\"1\" class=\"dataframe\">\n",
       "  <thead>\n",
       "    <tr style=\"text-align: right;\">\n",
       "      <th></th>\n",
       "      <th>id</th>\n",
       "      <th>member_id</th>\n",
       "      <th>loan_amnt</th>\n",
       "      <th>funded_amnt</th>\n",
       "      <th>funded_amnt_inv</th>\n",
       "      <th>int_rate</th>\n",
       "      <th>installment</th>\n",
       "      <th>annual_inc</th>\n",
       "      <th>dti</th>\n",
       "      <th>delinq_2yrs</th>\n",
       "      <th>...</th>\n",
       "      <th>total_pymnt_inv</th>\n",
       "      <th>total_rec_prncp</th>\n",
       "      <th>total_rec_int</th>\n",
       "      <th>total_rec_late_fee</th>\n",
       "      <th>recoveries</th>\n",
       "      <th>collection_recovery_fee</th>\n",
       "      <th>last_pymnt_amnt</th>\n",
       "      <th>policy_code</th>\n",
       "      <th>acc_now_delinq</th>\n",
       "      <th>default_ind</th>\n",
       "    </tr>\n",
       "  </thead>\n",
       "  <tbody>\n",
       "    <tr>\n",
       "      <th>count</th>\n",
       "      <td>1.000000e+03</td>\n",
       "      <td>1.000000e+03</td>\n",
       "      <td>1000.000000</td>\n",
       "      <td>1000.000000</td>\n",
       "      <td>1000.000000</td>\n",
       "      <td>1000.00000</td>\n",
       "      <td>1000.000000</td>\n",
       "      <td>1000.000000</td>\n",
       "      <td>1000.000000</td>\n",
       "      <td>1000.000000</td>\n",
       "      <td>...</td>\n",
       "      <td>1000.000000</td>\n",
       "      <td>1000.000000</td>\n",
       "      <td>1000.000000</td>\n",
       "      <td>1000.000000</td>\n",
       "      <td>1000.000000</td>\n",
       "      <td>1000.000000</td>\n",
       "      <td>1000.000000</td>\n",
       "      <td>1000.0</td>\n",
       "      <td>1000.000000</td>\n",
       "      <td>1000.00000</td>\n",
       "    </tr>\n",
       "    <tr>\n",
       "      <th>mean</th>\n",
       "      <td>3.298840e+07</td>\n",
       "      <td>3.556003e+07</td>\n",
       "      <td>14322.525000</td>\n",
       "      <td>14287.100000</td>\n",
       "      <td>14257.673018</td>\n",
       "      <td>13.13674</td>\n",
       "      <td>421.481010</td>\n",
       "      <td>72877.245840</td>\n",
       "      <td>18.292070</td>\n",
       "      <td>0.311000</td>\n",
       "      <td>...</td>\n",
       "      <td>7409.940970</td>\n",
       "      <td>5702.525440</td>\n",
       "      <td>1689.504260</td>\n",
       "      <td>0.371745</td>\n",
       "      <td>51.150320</td>\n",
       "      <td>5.275653</td>\n",
       "      <td>2342.001420</td>\n",
       "      <td>1.0</td>\n",
       "      <td>0.004000</td>\n",
       "      <td>0.05800</td>\n",
       "    </tr>\n",
       "    <tr>\n",
       "      <th>std</th>\n",
       "      <td>2.282582e+07</td>\n",
       "      <td>2.412227e+07</td>\n",
       "      <td>8337.854674</td>\n",
       "      <td>8323.674498</td>\n",
       "      <td>8330.668650</td>\n",
       "      <td>4.35710</td>\n",
       "      <td>232.588508</td>\n",
       "      <td>50408.849637</td>\n",
       "      <td>8.315679</td>\n",
       "      <td>0.827625</td>\n",
       "      <td>...</td>\n",
       "      <td>7811.921309</td>\n",
       "      <td>6672.031291</td>\n",
       "      <td>1973.734019</td>\n",
       "      <td>3.504947</td>\n",
       "      <td>476.734932</td>\n",
       "      <td>64.830054</td>\n",
       "      <td>5190.747837</td>\n",
       "      <td>0.0</td>\n",
       "      <td>0.063151</td>\n",
       "      <td>0.23386</td>\n",
       "    </tr>\n",
       "    <tr>\n",
       "      <th>min</th>\n",
       "      <td>3.109890e+05</td>\n",
       "      <td>3.109860e+05</td>\n",
       "      <td>1000.000000</td>\n",
       "      <td>1000.000000</td>\n",
       "      <td>766.088171</td>\n",
       "      <td>5.32000</td>\n",
       "      <td>33.240000</td>\n",
       "      <td>8000.000000</td>\n",
       "      <td>0.470000</td>\n",
       "      <td>0.000000</td>\n",
       "      <td>...</td>\n",
       "      <td>0.000000</td>\n",
       "      <td>0.000000</td>\n",
       "      <td>0.000000</td>\n",
       "      <td>0.000000</td>\n",
       "      <td>0.000000</td>\n",
       "      <td>0.000000</td>\n",
       "      <td>0.000000</td>\n",
       "      <td>1.0</td>\n",
       "      <td>0.000000</td>\n",
       "      <td>0.00000</td>\n",
       "    </tr>\n",
       "    <tr>\n",
       "      <th>25%</th>\n",
       "      <td>1.013431e+07</td>\n",
       "      <td>1.197121e+07</td>\n",
       "      <td>8000.000000</td>\n",
       "      <td>8000.000000</td>\n",
       "      <td>8000.000000</td>\n",
       "      <td>9.97000</td>\n",
       "      <td>251.265000</td>\n",
       "      <td>44000.000000</td>\n",
       "      <td>12.202500</td>\n",
       "      <td>0.000000</td>\n",
       "      <td>...</td>\n",
       "      <td>1660.820000</td>\n",
       "      <td>1119.320000</td>\n",
       "      <td>394.097500</td>\n",
       "      <td>0.000000</td>\n",
       "      <td>0.000000</td>\n",
       "      <td>0.000000</td>\n",
       "      <td>278.945000</td>\n",
       "      <td>1.0</td>\n",
       "      <td>0.000000</td>\n",
       "      <td>0.00000</td>\n",
       "    </tr>\n",
       "    <tr>\n",
       "      <th>50%</th>\n",
       "      <td>3.455849e+07</td>\n",
       "      <td>3.723182e+07</td>\n",
       "      <td>12000.000000</td>\n",
       "      <td>12000.000000</td>\n",
       "      <td>12000.000000</td>\n",
       "      <td>12.85000</td>\n",
       "      <td>361.720000</td>\n",
       "      <td>61000.000000</td>\n",
       "      <td>17.830000</td>\n",
       "      <td>0.000000</td>\n",
       "      <td>...</td>\n",
       "      <td>4745.905000</td>\n",
       "      <td>3070.915000</td>\n",
       "      <td>1016.250000</td>\n",
       "      <td>0.000000</td>\n",
       "      <td>0.000000</td>\n",
       "      <td>0.000000</td>\n",
       "      <td>442.850000</td>\n",
       "      <td>1.0</td>\n",
       "      <td>0.000000</td>\n",
       "      <td>0.00000</td>\n",
       "    </tr>\n",
       "    <tr>\n",
       "      <th>75%</th>\n",
       "      <td>5.550804e+07</td>\n",
       "      <td>5.910980e+07</td>\n",
       "      <td>20000.000000</td>\n",
       "      <td>19850.000000</td>\n",
       "      <td>19762.500000</td>\n",
       "      <td>15.90750</td>\n",
       "      <td>558.600000</td>\n",
       "      <td>86375.000000</td>\n",
       "      <td>24.082500</td>\n",
       "      <td>0.000000</td>\n",
       "      <td>...</td>\n",
       "      <td>10115.490000</td>\n",
       "      <td>7584.827500</td>\n",
       "      <td>2183.322500</td>\n",
       "      <td>0.000000</td>\n",
       "      <td>0.000000</td>\n",
       "      <td>0.000000</td>\n",
       "      <td>811.982500</td>\n",
       "      <td>1.0</td>\n",
       "      <td>0.000000</td>\n",
       "      <td>0.00000</td>\n",
       "    </tr>\n",
       "    <tr>\n",
       "      <th>max</th>\n",
       "      <td>6.783816e+07</td>\n",
       "      <td>7.269688e+07</td>\n",
       "      <td>35000.000000</td>\n",
       "      <td>35000.000000</td>\n",
       "      <td>35000.000000</td>\n",
       "      <td>26.77000</td>\n",
       "      <td>1223.770000</td>\n",
       "      <td>750000.000000</td>\n",
       "      <td>39.720000</td>\n",
       "      <td>12.000000</td>\n",
       "      <td>...</td>\n",
       "      <td>42036.120000</td>\n",
       "      <td>35000.000000</td>\n",
       "      <td>15004.630000</td>\n",
       "      <td>47.410000</td>\n",
       "      <td>11494.860000</td>\n",
       "      <td>1468.764000</td>\n",
       "      <td>34980.800000</td>\n",
       "      <td>1.0</td>\n",
       "      <td>1.000000</td>\n",
       "      <td>1.00000</td>\n",
       "    </tr>\n",
       "  </tbody>\n",
       "</table>\n",
       "<p>8 rows × 28 columns</p>\n",
       "</div>"
      ],
      "text/plain": [
       "                 id     member_id     loan_amnt   funded_amnt  \\\n",
       "count  1.000000e+03  1.000000e+03   1000.000000   1000.000000   \n",
       "mean   3.298840e+07  3.556003e+07  14322.525000  14287.100000   \n",
       "std    2.282582e+07  2.412227e+07   8337.854674   8323.674498   \n",
       "min    3.109890e+05  3.109860e+05   1000.000000   1000.000000   \n",
       "25%    1.013431e+07  1.197121e+07   8000.000000   8000.000000   \n",
       "50%    3.455849e+07  3.723182e+07  12000.000000  12000.000000   \n",
       "75%    5.550804e+07  5.910980e+07  20000.000000  19850.000000   \n",
       "max    6.783816e+07  7.269688e+07  35000.000000  35000.000000   \n",
       "\n",
       "       funded_amnt_inv    int_rate  installment     annual_inc          dti  \\\n",
       "count      1000.000000  1000.00000  1000.000000    1000.000000  1000.000000   \n",
       "mean      14257.673018    13.13674   421.481010   72877.245840    18.292070   \n",
       "std        8330.668650     4.35710   232.588508   50408.849637     8.315679   \n",
       "min         766.088171     5.32000    33.240000    8000.000000     0.470000   \n",
       "25%        8000.000000     9.97000   251.265000   44000.000000    12.202500   \n",
       "50%       12000.000000    12.85000   361.720000   61000.000000    17.830000   \n",
       "75%       19762.500000    15.90750   558.600000   86375.000000    24.082500   \n",
       "max       35000.000000    26.77000  1223.770000  750000.000000    39.720000   \n",
       "\n",
       "       delinq_2yrs     ...       total_pymnt_inv  total_rec_prncp  \\\n",
       "count  1000.000000     ...           1000.000000      1000.000000   \n",
       "mean      0.311000     ...           7409.940970      5702.525440   \n",
       "std       0.827625     ...           7811.921309      6672.031291   \n",
       "min       0.000000     ...              0.000000         0.000000   \n",
       "25%       0.000000     ...           1660.820000      1119.320000   \n",
       "50%       0.000000     ...           4745.905000      3070.915000   \n",
       "75%       0.000000     ...          10115.490000      7584.827500   \n",
       "max      12.000000     ...          42036.120000     35000.000000   \n",
       "\n",
       "       total_rec_int  total_rec_late_fee    recoveries  \\\n",
       "count    1000.000000         1000.000000   1000.000000   \n",
       "mean     1689.504260            0.371745     51.150320   \n",
       "std      1973.734019            3.504947    476.734932   \n",
       "min         0.000000            0.000000      0.000000   \n",
       "25%       394.097500            0.000000      0.000000   \n",
       "50%      1016.250000            0.000000      0.000000   \n",
       "75%      2183.322500            0.000000      0.000000   \n",
       "max     15004.630000           47.410000  11494.860000   \n",
       "\n",
       "       collection_recovery_fee  last_pymnt_amnt  policy_code  acc_now_delinq  \\\n",
       "count              1000.000000      1000.000000       1000.0     1000.000000   \n",
       "mean                  5.275653      2342.001420          1.0        0.004000   \n",
       "std                  64.830054      5190.747837          0.0        0.063151   \n",
       "min                   0.000000         0.000000          1.0        0.000000   \n",
       "25%                   0.000000       278.945000          1.0        0.000000   \n",
       "50%                   0.000000       442.850000          1.0        0.000000   \n",
       "75%                   0.000000       811.982500          1.0        0.000000   \n",
       "max                1468.764000     34980.800000          1.0        1.000000   \n",
       "\n",
       "       default_ind  \n",
       "count   1000.00000  \n",
       "mean       0.05800  \n",
       "std        0.23386  \n",
       "min        0.00000  \n",
       "25%        0.00000  \n",
       "50%        0.00000  \n",
       "75%        0.00000  \n",
       "max        1.00000  \n",
       "\n",
       "[8 rows x 28 columns]"
      ]
     },
     "execution_count": 22,
     "metadata": {},
     "output_type": "execute_result"
    }
   ],
   "source": [
    "Credit.describe()"
   ]
  },
  {
   "cell_type": "markdown",
   "metadata": {},
   "source": [
    "## Re-run Default Models with New Feature Set"
   ]
  },
  {
   "cell_type": "code",
   "execution_count": 23,
   "metadata": {},
   "outputs": [],
   "source": [
    "#Reestablish X and Y\n",
    "X = credit_revised.drop(['default_ind'], 1)\n",
    "X = pd.get_dummies(X)\n",
    "Y = credit_revised.default_ind"
   ]
  },
  {
   "cell_type": "code",
   "execution_count": 24,
   "metadata": {},
   "outputs": [
    {
     "name": "stdout",
     "output_type": "stream",
     "text": [
      "\n",
      " Percentage accuracy for Bernoulli Naive Bayes\n",
      "93.96551724137932%\n",
      "\n",
      " Cross-Validation Score\n",
      "[0.83333333 0.95833333 0.91666667 0.86363636 0.81818182]\n",
      "\n",
      " Confusion Matrix\n"
     ]
    },
    {
     "data": {
      "text/plain": [
       "array([[52,  6],\n",
       "       [ 1, 57]])"
      ]
     },
     "metadata": {},
     "output_type": "display_data"
    },
    {
     "name": "stdout",
     "output_type": "stream",
     "text": [
      "\n",
      "\n",
      " Program Executed in 0.13\n",
      "\n",
      "\n",
      "\n",
      "\n",
      " Percentage accuracy for K Nearest Neighbors Classifier\n",
      "75.86206896551724%\n",
      "\n",
      " Cross-Validation Score\n",
      "[0.625      0.75       0.54166667 0.72727273 0.77272727]\n",
      "\n",
      " Confusion Matrix\n"
     ]
    },
    {
     "data": {
      "text/plain": [
       "array([[35, 23],\n",
       "       [ 5, 53]])"
      ]
     },
     "metadata": {},
     "output_type": "display_data"
    },
    {
     "name": "stdout",
     "output_type": "stream",
     "text": [
      "\n",
      "\n",
      " Program Executed in 0.1\n",
      "\n",
      "\n",
      "\n",
      "\n",
      " Percentage accuracy for Random Forest Classifier\n",
      "99.13793103448276%\n",
      "\n",
      " Cross-Validation Score\n",
      "[0.91666667 0.91666667 0.75       0.72727273 0.90909091]\n",
      "\n",
      " Confusion Matrix\n"
     ]
    },
    {
     "data": {
      "text/plain": [
       "array([[58,  0],\n",
       "       [ 1, 57]])"
      ]
     },
     "metadata": {},
     "output_type": "display_data"
    },
    {
     "name": "stdout",
     "output_type": "stream",
     "text": [
      "\n",
      "\n",
      " Program Executed in 0.32\n",
      "\n",
      "\n",
      "\n",
      "\n",
      " Percentage accuracy for Logistic Regression\n",
      "96.55172413793103%\n",
      "\n",
      " Cross-Validation Score\n",
      "[0.875      0.91666667 0.91666667 0.95454545 0.90909091]\n",
      "\n",
      " Confusion Matrix\n"
     ]
    },
    {
     "data": {
      "text/plain": [
       "array([[56,  2],\n",
       "       [ 2, 56]])"
      ]
     },
     "metadata": {},
     "output_type": "display_data"
    },
    {
     "name": "stdout",
     "output_type": "stream",
     "text": [
      "\n",
      "\n",
      " Program Executed in 0.1\n",
      "\n",
      "\n",
      "\n",
      "\n",
      " Percentage accuracy for Lasso Logistic Regression\n",
      "100.0%\n",
      "\n",
      " Cross-Validation Score\n",
      "[0.875      0.95833333 0.95833333 0.90909091 0.90909091]\n",
      "\n",
      " Confusion Matrix\n"
     ]
    },
    {
     "data": {
      "text/plain": [
       "array([[58,  0],\n",
       "       [ 0, 58]])"
      ]
     },
     "metadata": {},
     "output_type": "display_data"
    },
    {
     "name": "stdout",
     "output_type": "stream",
     "text": [
      "\n",
      "\n",
      " Program Executed in 0.14\n",
      "\n",
      "\n",
      "\n",
      "\n",
      " Percentage accuracy for Ridge Logistic Regression\n",
      "96.55172413793103%\n",
      "\n",
      " Cross-Validation Score\n",
      "[0.95833333 0.91666667 0.91666667 0.95454545 0.90909091]\n",
      "\n",
      " Confusion Matrix\n"
     ]
    },
    {
     "data": {
      "text/plain": [
       "array([[56,  2],\n",
       "       [ 2, 56]])"
      ]
     },
     "metadata": {},
     "output_type": "display_data"
    },
    {
     "name": "stdout",
     "output_type": "stream",
     "text": [
      "\n",
      "\n",
      " Program Executed in 0.14\n",
      "\n",
      "\n",
      "\n",
      "\n",
      " Percentage accuracy for Gradient Boosting Classifier\n",
      "100.0%\n",
      "\n",
      " Cross-Validation Score\n",
      "[0.91666667 0.95833333 0.95833333 1.         0.90909091]\n",
      "\n",
      " Confusion Matrix\n"
     ]
    },
    {
     "data": {
      "text/plain": [
       "array([[58,  0],\n",
       "       [ 0, 58]])"
      ]
     },
     "metadata": {},
     "output_type": "display_data"
    },
    {
     "name": "stdout",
     "output_type": "stream",
     "text": [
      "\n",
      "\n",
      " Program Executed in 1.54\n"
     ]
    }
   ],
   "source": [
    "#Bernoulli Naive Bayes\n",
    "NB_Model('Bernoulli')\n",
    "print('\\n\\n')\n",
    "\n",
    "#K-Nearest Neighbors\n",
    "KNN_Model(5, 'uniform')\n",
    "print('\\n\\n')\n",
    "\n",
    "#Random Forest\n",
    "RFC_Model(10, 'gini', 'auto', None)\n",
    "print('\\n\\n')\n",
    "\n",
    "#Plain Logistic Regression\n",
    "Logistic_Reg_Model('l2', 1e9)\n",
    "print('\\n\\n')\n",
    "\n",
    "#Lasso Logistic Regression\n",
    "Logistic_Reg_Model('l1', 1.0)\n",
    "print('\\n\\n')\n",
    "\n",
    "#Ridge Logistic Regression\n",
    "Logistic_Reg_Model('l2', 1.0)\n",
    "print('\\n\\n')\n",
    "\n",
    "#Gradient boost classifier\n",
    "Gradient_Boost_Model(100, 3, 'deviance', 1.0)"
   ]
  },
  {
   "cell_type": "code",
   "execution_count": 25,
   "metadata": {},
   "outputs": [
    {
     "name": "stdout",
     "output_type": "stream",
     "text": [
      "\n",
      " Percentage accuracy for SVM\n",
      "100.0%\n",
      "\n",
      " Cross-Validation Score\n",
      "[0.5 0.5 0.5 0.5 0.5]\n",
      "\n",
      " Confusion Matrix\n"
     ]
    },
    {
     "data": {
      "text/plain": [
       "array([[58,  0],\n",
       "       [ 0, 58]])"
      ]
     },
     "metadata": {},
     "output_type": "display_data"
    },
    {
     "name": "stdout",
     "output_type": "stream",
     "text": [
      "\n",
      "\n",
      " Program Executed in 0.16\n",
      "\n",
      "\n",
      "\n"
     ]
    }
   ],
   "source": [
    "#Support Vector Classifier\n",
    "SVC_Model(1.0, 'rbf')\n",
    "print('\\n\\n')"
   ]
  },
  {
   "cell_type": "code",
   "execution_count": null,
   "metadata": {},
   "outputs": [],
   "source": []
  }
 ],
 "metadata": {
  "kernelspec": {
   "display_name": "Python 3",
   "language": "python",
   "name": "python3"
  },
  "language_info": {
   "codemirror_mode": {
    "name": "ipython",
    "version": 3
   },
   "file_extension": ".py",
   "mimetype": "text/x-python",
   "name": "python",
   "nbconvert_exporter": "python",
   "pygments_lexer": "ipython3",
   "version": "3.6.5"
  }
 },
 "nbformat": 4,
 "nbformat_minor": 2
}
